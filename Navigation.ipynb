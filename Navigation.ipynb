{
  "nbformat": 4,
  "nbformat_minor": 0,
  "metadata": {
    "kernelspec": {
      "display_name": "Python 3",
      "language": "python",
      "name": "python3"
    },
    "language_info": {
      "codemirror_mode": {
        "name": "ipython",
        "version": 3
      },
      "file_extension": ".py",
      "mimetype": "text/x-python",
      "name": "python",
      "nbconvert_exporter": "python",
      "pygments_lexer": "ipython3",
      "version": "3.6.4"
    },
    "colab": {
      "name": "Navigation.ipynb",
      "provenance": [],
      "toc_visible": true
    }
  },
  "cells": [
    {
      "cell_type": "markdown",
      "metadata": {
        "id": "7AsIRNUvLMZm"
      },
      "source": [
        "# Navigation\n",
        "\n",
        "---\n",
        "\n",
        "In this notebook, you will learn how to use the Unity ML-Agents environment for the first project of the [Deep Reinforcement Learning Nanodegree](https://www.udacity.com/course/deep-reinforcement-learning-nanodegree--nd893).\n",
        "\n",
        "### 1. Start the Environment\n",
        "\n",
        "We begin by importing some necessary packages.  If the code cell below returns an error, please revisit the project instructions to double-check that you have installed [Unity ML-Agents](https://github.com/Unity-Technologies/ml-agents/blob/master/docs/Installation.md) and [NumPy](http://www.numpy.org/)."
      ]
    },
    {
      "cell_type": "code",
      "metadata": {
        "id": "AWGa276sMteA",
        "outputId": "75c614b3-20d8-4e01-b32a-dcb292b9bcca",
        "colab": {
          "base_uri": "https://localhost:8080/",
          "height": 1000
        }
      },
      "source": [
        "try:\n",
        "    import google.colab\n",
        "    print('---- In Colab ---- \\n')\n",
        "    #!wget https://raw.githubusercontent.com/ajmllr/udacity-deep-reinforcement-learning-project-1-navigation/main/python.zip\n",
        "    #!unzip python\n",
        "\n",
        "    #!wget https://s3-us-west-1.amazonaws.com/udacity-drlnd/P1/Banana/Banana_Linux.zip\n",
        "    #!unzip Banana_Linux\n",
        "\n",
        "    !wget https://s3-us-west-1.amazonaws.com/udacity-drlnd/P1/Banana/Banana_Linux_NoVis.zip\n",
        "    !unzip Banana_Linux_NoVis\n",
        "    \n",
        "except:\n",
        "    print('---- Not in Colab ---- \\n')"
      ],
      "execution_count": 28,
      "outputs": [
        {
          "output_type": "stream",
          "text": [
            "---- In Colab ---- \n",
            "\n",
            "--2020-10-11 20:28:19--  https://s3-us-west-1.amazonaws.com/udacity-drlnd/P1/Banana/Banana_Linux_NoVis.zip\n",
            "Resolving s3-us-west-1.amazonaws.com (s3-us-west-1.amazonaws.com)... 52.219.116.48\n",
            "Connecting to s3-us-west-1.amazonaws.com (s3-us-west-1.amazonaws.com)|52.219.116.48|:443... connected.\n",
            "HTTP request sent, awaiting response... 200 OK\n",
            "Length: 47031454 (45M) [application/zip]\n",
            "Saving to: ‘Banana_Linux_NoVis.zip’\n",
            "\n",
            "Banana_Linux_NoVis. 100%[===================>]  44.85M  86.0MB/s    in 0.5s    \n",
            "\n",
            "2020-10-11 20:28:20 (86.0 MB/s) - ‘Banana_Linux_NoVis.zip’ saved [47031454/47031454]\n",
            "\n",
            "Archive:  Banana_Linux_NoVis.zip\n",
            "   creating: Banana_Linux_NoVis/\n",
            "  inflating: Banana_Linux_NoVis/Banana.x86  \n",
            "   creating: Banana_Linux_NoVis/Banana_Data/\n",
            "   creating: Banana_Linux_NoVis/Banana_Data/Managed/\n",
            "  inflating: Banana_Linux_NoVis/Banana_Data/Managed/UnityEngine.AudioModule.dll.mdb  \n",
            "  inflating: Banana_Linux_NoVis/Banana_Data/Managed/UnityEngine.InputModule.dll.mdb  \n",
            "  inflating: Banana_Linux_NoVis/Banana_Data/Managed/UnityEngine.TerrainPhysicsModule.dll  \n",
            "  inflating: Banana_Linux_NoVis/Banana_Data/Managed/Mono.Posix.dll  \n",
            "  inflating: Banana_Linux_NoVis/Banana_Data/Managed/UnityEngine.UnityWebRequestAudioModule.dll.mdb  \n",
            "  inflating: Banana_Linux_NoVis/Banana_Data/Managed/UnityEngine.SpriteMaskModule.dll  \n",
            "  inflating: Banana_Linux_NoVis/Banana_Data/Managed/UnityEngine.UnityConnectModule.dll.mdb  \n",
            "  inflating: Banana_Linux_NoVis/Banana_Data/Managed/UnityEngine.CrashReportingModule.dll  \n",
            "  inflating: Banana_Linux_NoVis/Banana_Data/Managed/UnityEngine.Physics2DModule.dll.mdb  \n",
            "  inflating: Banana_Linux_NoVis/Banana_Data/Managed/UnityEngine.UnityAnalyticsModule.dll  \n",
            "  inflating: Banana_Linux_NoVis/Banana_Data/Managed/UnityEngine.TextRenderingModule.dll.mdb  \n",
            "  inflating: Banana_Linux_NoVis/Banana_Data/Managed/UnityEngine.UnityWebRequestWWWModule.dll  \n",
            "  inflating: Banana_Linux_NoVis/Banana_Data/Managed/UnityEngine.ARModule.dll  \n",
            "  inflating: Banana_Linux_NoVis/Banana_Data/Managed/Google.Protobuf.dll  \n",
            "  inflating: Banana_Linux_NoVis/Banana_Data/Managed/UnityEngine.AccessibilityModule.dll  \n",
            "  inflating: Banana_Linux_NoVis/Banana_Data/Managed/UnityEngine.WebModule.dll.mdb  \n",
            "  inflating: Banana_Linux_NoVis/Banana_Data/Managed/System.Configuration.dll  \n",
            "  inflating: Banana_Linux_NoVis/Banana_Data/Managed/UnityEngine.SpriteShapeModule.dll  \n",
            "  inflating: Banana_Linux_NoVis/Banana_Data/Managed/UnityEngine.TextRenderingModule.dll  \n",
            "  inflating: Banana_Linux_NoVis/Banana_Data/Managed/UnityEngine.GameCenterModule.dll.mdb  \n",
            "  inflating: Banana_Linux_NoVis/Banana_Data/Managed/Assembly-CSharp.dll  \n",
            "  inflating: Banana_Linux_NoVis/Banana_Data/Managed/UnityEngine.UnityWebRequestTextureModule.dll  \n",
            "  inflating: Banana_Linux_NoVis/Banana_Data/Managed/UnityEngine.StandardEvents.dll  \n",
            "  inflating: Banana_Linux_NoVis/Banana_Data/Managed/UnityEngine.UIModule.dll.mdb  \n",
            "  inflating: Banana_Linux_NoVis/Banana_Data/Managed/UnityEngine.AssetBundleModule.dll  \n",
            "  inflating: Banana_Linux_NoVis/Banana_Data/Managed/UnityEngine.ImageConversionModule.dll.mdb  \n",
            "  inflating: Banana_Linux_NoVis/Banana_Data/Managed/UnityEngine.JSONSerializeModule.dll.mdb  \n",
            "  inflating: Banana_Linux_NoVis/Banana_Data/Managed/UnityEngine.PhysicsModule.dll.mdb  \n",
            "  inflating: Banana_Linux_NoVis/Banana_Data/Managed/UnityEngine.AnimationModule.dll  \n",
            "  inflating: Banana_Linux_NoVis/Banana_Data/Managed/UnityEngine.AudioModule.dll  \n",
            "  inflating: Banana_Linux_NoVis/Banana_Data/Managed/UnityEngine.CrashReportingModule.dll.mdb  \n",
            "  inflating: Banana_Linux_NoVis/Banana_Data/Managed/UnityEngine.SharedInternalsModule.dll.mdb  \n",
            "  inflating: Banana_Linux_NoVis/Banana_Data/Managed/UnityEngine.TilemapModule.dll.mdb  \n",
            "  inflating: Banana_Linux_NoVis/Banana_Data/Managed/UnityEngine.ClusterInputModule.dll  \n",
            "  inflating: Banana_Linux_NoVis/Banana_Data/Managed/UnityEngine.InputModule.dll  \n",
            "  inflating: Banana_Linux_NoVis/Banana_Data/Managed/UnityEngine.VRModule.dll.mdb  \n",
            "  inflating: Banana_Linux_NoVis/Banana_Data/Managed/UnityEngine.TerrainModule.dll.mdb  \n",
            "  inflating: Banana_Linux_NoVis/Banana_Data/Managed/UnityEngine.VideoModule.dll.mdb  \n",
            "  inflating: Banana_Linux_NoVis/Banana_Data/Managed/UnityEngine.DirectorModule.dll  \n",
            "  inflating: Banana_Linux_NoVis/Banana_Data/Managed/UnityEngine.SpriteMaskModule.dll.mdb  \n",
            "  inflating: Banana_Linux_NoVis/Banana_Data/Managed/mscorlib.dll  \n",
            "  inflating: Banana_Linux_NoVis/Banana_Data/Managed/UnityEngine.DirectorModule.dll.mdb  \n",
            "  inflating: Banana_Linux_NoVis/Banana_Data/Managed/UnityEngine.VehiclesModule.dll.mdb  \n",
            "  inflating: Banana_Linux_NoVis/Banana_Data/Managed/UnityEngine.GameCenterModule.dll  \n",
            "  inflating: Banana_Linux_NoVis/Banana_Data/Managed/UnityEngine.ParticleSystemModule.dll.mdb  \n",
            "  inflating: Banana_Linux_NoVis/Banana_Data/Managed/UnityEngine.ClothModule.dll.mdb  \n",
            "  inflating: Banana_Linux_NoVis/Banana_Data/Managed/UnityEngine.UnityWebRequestModule.dll.mdb  \n",
            "  inflating: Banana_Linux_NoVis/Banana_Data/Managed/UnityEngine.Physics2DModule.dll  \n",
            "  inflating: Banana_Linux_NoVis/Banana_Data/Managed/UnityEngine.UnityConnectModule.dll  \n",
            "  inflating: Banana_Linux_NoVis/Banana_Data/Managed/UnityEngine.dll  \n",
            "  inflating: Banana_Linux_NoVis/Banana_Data/Managed/UnityEngine.UnityWebRequestTextureModule.dll.mdb  \n",
            "  inflating: Banana_Linux_NoVis/Banana_Data/Managed/UnityEngine.UIElementsModule.dll  \n",
            "  inflating: Banana_Linux_NoVis/Banana_Data/Managed/Grpc.Core.dll  \n",
            "  inflating: Banana_Linux_NoVis/Banana_Data/Managed/UnityEngine.UIModule.dll  \n",
            "  inflating: Banana_Linux_NoVis/Banana_Data/Managed/UnityEngine.UI.dll  \n",
            "  inflating: Banana_Linux_NoVis/Banana_Data/Managed/UnityEngine.ParticlesLegacyModule.dll  \n",
            "  inflating: Banana_Linux_NoVis/Banana_Data/Managed/UnityEngine.StyleSheetsModule.dll  \n",
            "  inflating: Banana_Linux_NoVis/Banana_Data/Managed/System.Interactive.Async.dll  \n",
            "  inflating: Banana_Linux_NoVis/Banana_Data/Managed/UnityEngine.WebModule.dll  \n",
            "  inflating: Banana_Linux_NoVis/Banana_Data/Managed/UnityEngine.Timeline.dll  \n",
            "  inflating: Banana_Linux_NoVis/Banana_Data/Managed/UnityEngine.IMGUIModule.dll.mdb  \n",
            "  inflating: Banana_Linux_NoVis/Banana_Data/Managed/UnityEngine.GridModule.dll  \n",
            "  inflating: Banana_Linux_NoVis/Banana_Data/Managed/UnityEngine.TerrainModule.dll  \n",
            "  inflating: Banana_Linux_NoVis/Banana_Data/Managed/UnityEngine.GridModule.dll.mdb  \n",
            "  inflating: Banana_Linux_NoVis/Banana_Data/Managed/UnityEngine.AssetBundleModule.dll.mdb  \n",
            "  inflating: Banana_Linux_NoVis/Banana_Data/Managed/UnityEngine.VRModule.dll  \n",
            "  inflating: Banana_Linux_NoVis/Banana_Data/Managed/UnityEngine.JSONSerializeModule.dll  \n",
            "  inflating: Banana_Linux_NoVis/Banana_Data/Managed/UnityEngine.AIModule.dll.mdb  \n",
            "  inflating: Banana_Linux_NoVis/Banana_Data/Managed/UnityEngine.SpatialTracking.dll  \n",
            "  inflating: Banana_Linux_NoVis/Banana_Data/Managed/Mono.Security.dll  \n",
            "  inflating: Banana_Linux_NoVis/Banana_Data/Managed/UnityEngine.CoreModule.dll.mdb  \n",
            "  inflating: Banana_Linux_NoVis/Banana_Data/Managed/System.dll  \n",
            "  inflating: Banana_Linux_NoVis/Banana_Data/Managed/UnityEngine.SharedInternalsModule.dll  \n",
            "  inflating: Banana_Linux_NoVis/Banana_Data/Managed/UnityEngine.UIElementsModule.dll.mdb  \n",
            "  inflating: Banana_Linux_NoVis/Banana_Data/Managed/UnityEngine.ImageConversionModule.dll  \n",
            "  inflating: Banana_Linux_NoVis/Banana_Data/Managed/UnityEngine.SpriteShapeModule.dll.mdb  \n",
            "  inflating: Banana_Linux_NoVis/Banana_Data/Managed/UnityEngine.TilemapModule.dll  \n",
            "  inflating: Banana_Linux_NoVis/Banana_Data/Managed/UnityEngine.ParticleSystemModule.dll  \n",
            "  inflating: Banana_Linux_NoVis/Banana_Data/Managed/UnityEngine.AccessibilityModule.dll.mdb  \n",
            "  inflating: Banana_Linux_NoVis/Banana_Data/Managed/UnityEngine.VehiclesModule.dll  \n",
            "  inflating: Banana_Linux_NoVis/Banana_Data/Managed/UnityEngine.PhysicsModule.dll  \n",
            "  inflating: Banana_Linux_NoVis/Banana_Data/Managed/UnityEngine.CoreModule.dll  \n",
            "  inflating: Banana_Linux_NoVis/Banana_Data/Managed/UnityEngine.PerformanceReportingModule.dll  \n",
            "  inflating: Banana_Linux_NoVis/Banana_Data/Managed/System.Xml.dll  \n",
            "  inflating: Banana_Linux_NoVis/Banana_Data/Managed/UnityEngine.ClusterRendererModule.dll.mdb  \n",
            "  inflating: Banana_Linux_NoVis/Banana_Data/Managed/UnityEngine.WindModule.dll  \n",
            "  inflating: Banana_Linux_NoVis/Banana_Data/Managed/UnityEngine.PerformanceReportingModule.dll.mdb  \n",
            "  inflating: Banana_Linux_NoVis/Banana_Data/Managed/UnityEngine.ARModule.dll.mdb  \n",
            "  inflating: Banana_Linux_NoVis/Banana_Data/Managed/UnityEngine.UnityAnalyticsModule.dll.mdb  \n",
            "  inflating: Banana_Linux_NoVis/Banana_Data/Managed/UnityEngine.ScreenCaptureModule.dll  \n",
            "  inflating: Banana_Linux_NoVis/Banana_Data/Managed/UnityEngine.dll.mdb  \n",
            "  inflating: Banana_Linux_NoVis/Banana_Data/Managed/UnityEngine.ClusterRendererModule.dll  \n",
            "  inflating: Banana_Linux_NoVis/Banana_Data/Managed/UnityEngine.ClusterInputModule.dll.mdb  \n",
            "  inflating: Banana_Linux_NoVis/Banana_Data/Managed/UnityEngine.UnityWebRequestModule.dll  \n",
            "  inflating: Banana_Linux_NoVis/Banana_Data/Managed/UnityEngine.Networking.dll  \n",
            "  inflating: Banana_Linux_NoVis/Banana_Data/Managed/UnityEngine.StyleSheetsModule.dll.mdb  \n",
            "  inflating: Banana_Linux_NoVis/Banana_Data/Managed/UnityEngine.UnityWebRequestAudioModule.dll  \n",
            "  inflating: Banana_Linux_NoVis/Banana_Data/Managed/UnityEngine.UNETModule.dll.mdb  \n",
            "  inflating: Banana_Linux_NoVis/Banana_Data/Managed/UnityEngine.UNETModule.dll  \n",
            "  inflating: Banana_Linux_NoVis/Banana_Data/Managed/UnityEngine.ClothModule.dll  \n",
            "  inflating: Banana_Linux_NoVis/Banana_Data/Managed/UnityEngine.TerrainPhysicsModule.dll.mdb  \n",
            "  inflating: Banana_Linux_NoVis/Banana_Data/Managed/UnityEngine.AnimationModule.dll.mdb  \n",
            "  inflating: Banana_Linux_NoVis/Banana_Data/Managed/System.Security.dll  \n",
            "  inflating: Banana_Linux_NoVis/Banana_Data/Managed/UnityEngine.AIModule.dll  \n",
            "  inflating: Banana_Linux_NoVis/Banana_Data/Managed/UnityEngine.IMGUIModule.dll  \n",
            "  inflating: Banana_Linux_NoVis/Banana_Data/Managed/System.Core.dll  \n",
            "  inflating: Banana_Linux_NoVis/Banana_Data/Managed/UnityEngine.WindModule.dll.mdb  \n",
            "  inflating: Banana_Linux_NoVis/Banana_Data/Managed/UnityEngine.VideoModule.dll  \n",
            "  inflating: Banana_Linux_NoVis/Banana_Data/Managed/UnityEngine.ParticlesLegacyModule.dll.mdb  \n",
            "  inflating: Banana_Linux_NoVis/Banana_Data/Managed/UnityEngine.ScreenCaptureModule.dll.mdb  \n",
            "  inflating: Banana_Linux_NoVis/Banana_Data/Managed/UnityEngine.UnityWebRequestWWWModule.dll.mdb  \n",
            "  inflating: Banana_Linux_NoVis/Banana_Data/globalgamemanagers  \n",
            "   creating: Banana_Linux_NoVis/Banana_Data/GI/\n",
            "   creating: Banana_Linux_NoVis/Banana_Data/GI/level0/\n",
            "   creating: Banana_Linux_NoVis/Banana_Data/GI/level0/d8/\n",
            "  inflating: Banana_Linux_NoVis/Banana_Data/GI/level0/d8/d879d8f84dad702b137146d9028aad2c.vis  \n",
            "  inflating: Banana_Linux_NoVis/Banana_Data/GI/level0/d8/d879d8f84dad702b137146d9028aad2c.iws.sse  \n",
            "  inflating: Banana_Linux_NoVis/Banana_Data/GI/level0/d8/d879d8f84dad702b137146d9028aad2c.caw  \n",
            "  inflating: Banana_Linux_NoVis/Banana_Data/GI/level0/d8/d879d8f84dad702b137146d9028aad2c.ecm  \n",
            "  inflating: Banana_Linux_NoVis/Banana_Data/GI/level0/d8/d879d8f84dad702b137146d9028aad2c.rsc.sse  \n",
            "  inflating: Banana_Linux_NoVis/Banana_Data/GI/level0/d8/d879d8f84dad702b137146d9028aad2c.rgb  \n",
            "   creating: Banana_Linux_NoVis/Banana_Data/Plugins/\n",
            "   creating: Banana_Linux_NoVis/Banana_Data/Plugins/x86/\n",
            "  inflating: Banana_Linux_NoVis/Banana_Data/Plugins/x86/libgrpc_csharp_ext.x86.so  \n",
            "   creating: Banana_Linux_NoVis/Banana_Data/Plugins/x86_64/\n",
            "  inflating: Banana_Linux_NoVis/Banana_Data/Plugins/x86_64/libgrpc_csharp_ext.x64.so  \n",
            "  inflating: Banana_Linux_NoVis/Banana_Data/boot.config  \n",
            "   creating: Banana_Linux_NoVis/Banana_Data/Resources/\n",
            "  inflating: Banana_Linux_NoVis/Banana_Data/Resources/unity default resources  \n",
            "  inflating: Banana_Linux_NoVis/Banana_Data/Resources/unity_builtin_extra  \n",
            "  inflating: Banana_Linux_NoVis/Banana_Data/Resources/UnityPlayer.png  \n",
            "   creating: Banana_Linux_NoVis/Banana_Data/MonoBleedingEdge/\n",
            "   creating: Banana_Linux_NoVis/Banana_Data/MonoBleedingEdge/etc/\n",
            "   creating: Banana_Linux_NoVis/Banana_Data/MonoBleedingEdge/etc/mono/\n",
            "  inflating: Banana_Linux_NoVis/Banana_Data/MonoBleedingEdge/etc/mono/config  \n",
            "   creating: Banana_Linux_NoVis/Banana_Data/MonoBleedingEdge/etc/mono/2.0/\n",
            "  inflating: Banana_Linux_NoVis/Banana_Data/MonoBleedingEdge/etc/mono/2.0/web.config  \n",
            "  inflating: Banana_Linux_NoVis/Banana_Data/MonoBleedingEdge/etc/mono/2.0/machine.config  \n",
            "   creating: Banana_Linux_NoVis/Banana_Data/MonoBleedingEdge/etc/mono/2.0/Browsers/\n",
            "  inflating: Banana_Linux_NoVis/Banana_Data/MonoBleedingEdge/etc/mono/2.0/Browsers/Compat.browser  \n",
            "  inflating: Banana_Linux_NoVis/Banana_Data/MonoBleedingEdge/etc/mono/2.0/DefaultWsdlHelpGenerator.aspx  \n",
            "  inflating: Banana_Linux_NoVis/Banana_Data/MonoBleedingEdge/etc/mono/2.0/settings.map  \n",
            "   creating: Banana_Linux_NoVis/Banana_Data/MonoBleedingEdge/etc/mono/4.5/\n",
            "  inflating: Banana_Linux_NoVis/Banana_Data/MonoBleedingEdge/etc/mono/4.5/web.config  \n",
            "  inflating: Banana_Linux_NoVis/Banana_Data/MonoBleedingEdge/etc/mono/4.5/machine.config  \n",
            "   creating: Banana_Linux_NoVis/Banana_Data/MonoBleedingEdge/etc/mono/4.5/Browsers/\n",
            "  inflating: Banana_Linux_NoVis/Banana_Data/MonoBleedingEdge/etc/mono/4.5/Browsers/Compat.browser  \n",
            "  inflating: Banana_Linux_NoVis/Banana_Data/MonoBleedingEdge/etc/mono/4.5/DefaultWsdlHelpGenerator.aspx  \n",
            "  inflating: Banana_Linux_NoVis/Banana_Data/MonoBleedingEdge/etc/mono/4.5/settings.map  \n",
            "  inflating: Banana_Linux_NoVis/Banana_Data/MonoBleedingEdge/etc/mono/browscap.ini  \n",
            "   creating: Banana_Linux_NoVis/Banana_Data/MonoBleedingEdge/etc/mono/mconfig/\n",
            "  inflating: Banana_Linux_NoVis/Banana_Data/MonoBleedingEdge/etc/mono/mconfig/config.xml  \n",
            "   creating: Banana_Linux_NoVis/Banana_Data/MonoBleedingEdge/etc/mono/4.0/\n",
            "  inflating: Banana_Linux_NoVis/Banana_Data/MonoBleedingEdge/etc/mono/4.0/web.config  \n",
            "  inflating: Banana_Linux_NoVis/Banana_Data/MonoBleedingEdge/etc/mono/4.0/machine.config  \n",
            "   creating: Banana_Linux_NoVis/Banana_Data/MonoBleedingEdge/etc/mono/4.0/Browsers/\n",
            "  inflating: Banana_Linux_NoVis/Banana_Data/MonoBleedingEdge/etc/mono/4.0/Browsers/Compat.browser  \n",
            "  inflating: Banana_Linux_NoVis/Banana_Data/MonoBleedingEdge/etc/mono/4.0/DefaultWsdlHelpGenerator.aspx  \n",
            "  inflating: Banana_Linux_NoVis/Banana_Data/MonoBleedingEdge/etc/mono/4.0/settings.map  \n",
            "   creating: Banana_Linux_NoVis/Banana_Data/MonoBleedingEdge/x86/\n",
            "  inflating: Banana_Linux_NoVis/Banana_Data/MonoBleedingEdge/x86/libmonobdwgc-2.0.so  \n",
            "  inflating: Banana_Linux_NoVis/Banana_Data/MonoBleedingEdge/x86/libMonoPosixHelper.so  \n",
            "   creating: Banana_Linux_NoVis/Banana_Data/MonoBleedingEdge/x86_64/\n",
            "  inflating: Banana_Linux_NoVis/Banana_Data/MonoBleedingEdge/x86_64/libmonobdwgc-2.0.so  \n",
            "  inflating: Banana_Linux_NoVis/Banana_Data/MonoBleedingEdge/x86_64/libMonoPosixHelper.so  \n",
            "  inflating: Banana_Linux_NoVis/Banana_Data/sharedassets0.assets.resS  \n",
            "  inflating: Banana_Linux_NoVis/Banana_Data/sharedassets0.assets  \n",
            "  inflating: Banana_Linux_NoVis/Banana_Data/level0  \n",
            "  inflating: Banana_Linux_NoVis/Banana_Data/globalgamemanagers.assets  \n",
            "  inflating: Banana_Linux_NoVis/Banana.x86_64  \n"
          ],
          "name": "stdout"
        }
      ]
    },
    {
      "cell_type": "code",
      "metadata": {
        "id": "RUL0fGLATciW"
      },
      "source": [
        ""
      ],
      "execution_count": null,
      "outputs": []
    },
    {
      "cell_type": "code",
      "metadata": {
        "id": "6pMMpRf_PNS7",
        "outputId": "e714c9aa-1385-4c28-868a-4ea3395e6603",
        "colab": {
          "base_uri": "https://localhost:8080/",
          "height": 1000
        }
      },
      "source": [
        "!cd /content/python && pip install ."
      ],
      "execution_count": 14,
      "outputs": [
        {
          "output_type": "stream",
          "text": [
            "Processing /content/python\n",
            "Collecting tensorflow==1.7.1\n",
            "\u001b[?25l  Downloading https://files.pythonhosted.org/packages/66/83/35c3f53129dfc80d65ebbe07ef0575263c3c05cc37f8c713674dcedcea6f/tensorflow-1.7.1-cp36-cp36m-manylinux1_x86_64.whl (48.1MB)\n",
            "\u001b[K     |████████████████████████████████| 48.1MB 87kB/s \n",
            "\u001b[?25hRequirement already satisfied: Pillow>=4.2.1 in /usr/local/lib/python3.6/dist-packages (from unityagents==0.4.0) (7.0.0)\n",
            "Requirement already satisfied: matplotlib in /usr/local/lib/python3.6/dist-packages (from unityagents==0.4.0) (3.2.2)\n",
            "Requirement already satisfied: numpy>=1.11.0 in /usr/local/lib/python3.6/dist-packages (from unityagents==0.4.0) (1.18.5)\n",
            "Requirement already satisfied: jupyter in /usr/local/lib/python3.6/dist-packages (from unityagents==0.4.0) (1.0.0)\n",
            "Requirement already satisfied: pytest>=3.2.2 in /usr/local/lib/python3.6/dist-packages (from unityagents==0.4.0) (3.6.4)\n",
            "Requirement already satisfied: docopt in /usr/local/lib/python3.6/dist-packages (from unityagents==0.4.0) (0.6.2)\n",
            "Requirement already satisfied: pyyaml in /usr/local/lib/python3.6/dist-packages (from unityagents==0.4.0) (3.13)\n",
            "Collecting protobuf==3.5.2\n",
            "\u001b[?25l  Downloading https://files.pythonhosted.org/packages/9b/0d/6e9cf54be86c742a375a0ca0addadb582c890939b1b6d3339570e51091bd/protobuf-3.5.2-cp36-cp36m-manylinux1_x86_64.whl (6.4MB)\n",
            "\u001b[K     |████████████████████████████████| 6.4MB 15.8MB/s \n",
            "\u001b[?25hCollecting grpcio==1.11.0\n",
            "\u001b[?25l  Downloading https://files.pythonhosted.org/packages/c8/b8/00e703183b7ae5e02f161dafacdfa8edbd7234cb7434aef00f126a3a511e/grpcio-1.11.0-cp36-cp36m-manylinux1_x86_64.whl (8.8MB)\n",
            "\u001b[K     |████████████████████████████████| 8.8MB 23.0MB/s \n",
            "\u001b[?25hCollecting torch==0.4.0\n",
            "\u001b[?25l  Downloading https://files.pythonhosted.org/packages/69/43/380514bd9663f1bf708abeb359b8b48d3fabb1c8e95bb3427a980a064c57/torch-0.4.0-cp36-cp36m-manylinux1_x86_64.whl (484.0MB)\n",
            "\u001b[K     |████████████████████████████████| 484.0MB 30kB/s \n",
            "\u001b[?25hRequirement already satisfied: pandas in /usr/local/lib/python3.6/dist-packages (from unityagents==0.4.0) (1.1.2)\n",
            "Requirement already satisfied: scipy in /usr/local/lib/python3.6/dist-packages (from unityagents==0.4.0) (1.4.1)\n",
            "Requirement already satisfied: ipykernel in /usr/local/lib/python3.6/dist-packages (from unityagents==0.4.0) (4.10.1)\n",
            "Requirement already satisfied: wheel>=0.26 in /usr/local/lib/python3.6/dist-packages (from tensorflow==1.7.1->unityagents==0.4.0) (0.35.1)\n",
            "Requirement already satisfied: astor>=0.6.0 in /usr/local/lib/python3.6/dist-packages (from tensorflow==1.7.1->unityagents==0.4.0) (0.8.1)\n",
            "Requirement already satisfied: termcolor>=1.1.0 in /usr/local/lib/python3.6/dist-packages (from tensorflow==1.7.1->unityagents==0.4.0) (1.1.0)\n",
            "Requirement already satisfied: absl-py>=0.1.6 in /usr/local/lib/python3.6/dist-packages (from tensorflow==1.7.1->unityagents==0.4.0) (0.10.0)\n",
            "Requirement already satisfied: gast>=0.2.0 in /usr/local/lib/python3.6/dist-packages (from tensorflow==1.7.1->unityagents==0.4.0) (0.3.3)\n",
            "Collecting tensorboard<1.8.0,>=1.7.0\n",
            "\u001b[?25l  Downloading https://files.pythonhosted.org/packages/0b/ec/65d4e8410038ca2a78c09034094403d231228d0ddcae7d470b223456e55d/tensorboard-1.7.0-py3-none-any.whl (3.1MB)\n",
            "\u001b[K     |████████████████████████████████| 3.1MB 34.2MB/s \n",
            "\u001b[?25hRequirement already satisfied: six>=1.10.0 in /usr/local/lib/python3.6/dist-packages (from tensorflow==1.7.1->unityagents==0.4.0) (1.15.0)\n",
            "Requirement already satisfied: python-dateutil>=2.1 in /usr/local/lib/python3.6/dist-packages (from matplotlib->unityagents==0.4.0) (2.8.1)\n",
            "Requirement already satisfied: pyparsing!=2.0.4,!=2.1.2,!=2.1.6,>=2.0.1 in /usr/local/lib/python3.6/dist-packages (from matplotlib->unityagents==0.4.0) (2.4.7)\n",
            "Requirement already satisfied: kiwisolver>=1.0.1 in /usr/local/lib/python3.6/dist-packages (from matplotlib->unityagents==0.4.0) (1.2.0)\n",
            "Requirement already satisfied: cycler>=0.10 in /usr/local/lib/python3.6/dist-packages (from matplotlib->unityagents==0.4.0) (0.10.0)\n",
            "Requirement already satisfied: ipywidgets in /usr/local/lib/python3.6/dist-packages (from jupyter->unityagents==0.4.0) (7.5.1)\n",
            "Requirement already satisfied: jupyter-console in /usr/local/lib/python3.6/dist-packages (from jupyter->unityagents==0.4.0) (5.2.0)\n",
            "Requirement already satisfied: qtconsole in /usr/local/lib/python3.6/dist-packages (from jupyter->unityagents==0.4.0) (4.7.7)\n",
            "Requirement already satisfied: notebook in /usr/local/lib/python3.6/dist-packages (from jupyter->unityagents==0.4.0) (5.3.1)\n",
            "Requirement already satisfied: nbconvert in /usr/local/lib/python3.6/dist-packages (from jupyter->unityagents==0.4.0) (5.6.1)\n",
            "Requirement already satisfied: attrs>=17.4.0 in /usr/local/lib/python3.6/dist-packages (from pytest>=3.2.2->unityagents==0.4.0) (20.2.0)\n",
            "Requirement already satisfied: py>=1.5.0 in /usr/local/lib/python3.6/dist-packages (from pytest>=3.2.2->unityagents==0.4.0) (1.9.0)\n",
            "Requirement already satisfied: pluggy<0.8,>=0.5 in /usr/local/lib/python3.6/dist-packages (from pytest>=3.2.2->unityagents==0.4.0) (0.7.1)\n",
            "Requirement already satisfied: atomicwrites>=1.0 in /usr/local/lib/python3.6/dist-packages (from pytest>=3.2.2->unityagents==0.4.0) (1.4.0)\n",
            "Requirement already satisfied: more-itertools>=4.0.0 in /usr/local/lib/python3.6/dist-packages (from pytest>=3.2.2->unityagents==0.4.0) (8.5.0)\n",
            "Requirement already satisfied: setuptools in /usr/local/lib/python3.6/dist-packages (from pytest>=3.2.2->unityagents==0.4.0) (50.3.0)\n",
            "Requirement already satisfied: pytz>=2017.2 in /usr/local/lib/python3.6/dist-packages (from pandas->unityagents==0.4.0) (2018.9)\n",
            "Requirement already satisfied: ipython>=4.0.0 in /usr/local/lib/python3.6/dist-packages (from ipykernel->unityagents==0.4.0) (5.5.0)\n",
            "Requirement already satisfied: tornado>=4.0 in /usr/local/lib/python3.6/dist-packages (from ipykernel->unityagents==0.4.0) (5.1.1)\n",
            "Requirement already satisfied: traitlets>=4.1.0 in /usr/local/lib/python3.6/dist-packages (from ipykernel->unityagents==0.4.0) (4.3.3)\n",
            "Requirement already satisfied: jupyter-client in /usr/local/lib/python3.6/dist-packages (from ipykernel->unityagents==0.4.0) (5.3.5)\n",
            "Requirement already satisfied: werkzeug>=0.11.10 in /usr/local/lib/python3.6/dist-packages (from tensorboard<1.8.0,>=1.7.0->tensorflow==1.7.1->unityagents==0.4.0) (1.0.1)\n",
            "Requirement already satisfied: markdown>=2.6.8 in /usr/local/lib/python3.6/dist-packages (from tensorboard<1.8.0,>=1.7.0->tensorflow==1.7.1->unityagents==0.4.0) (3.2.2)\n",
            "Collecting bleach==1.5.0\n",
            "  Downloading https://files.pythonhosted.org/packages/33/70/86c5fec937ea4964184d4d6c4f0b9551564f821e1c3575907639036d9b90/bleach-1.5.0-py2.py3-none-any.whl\n",
            "Collecting html5lib==0.9999999\n",
            "\u001b[?25l  Downloading https://files.pythonhosted.org/packages/ae/ae/bcb60402c60932b32dfaf19bb53870b29eda2cd17551ba5639219fb5ebf9/html5lib-0.9999999.tar.gz (889kB)\n",
            "\u001b[K     |████████████████████████████████| 890kB 43.4MB/s \n",
            "\u001b[?25hRequirement already satisfied: nbformat>=4.2.0 in /usr/local/lib/python3.6/dist-packages (from ipywidgets->jupyter->unityagents==0.4.0) (5.0.7)\n",
            "Requirement already satisfied: widgetsnbextension~=3.5.0 in /usr/local/lib/python3.6/dist-packages (from ipywidgets->jupyter->unityagents==0.4.0) (3.5.1)\n",
            "Requirement already satisfied: pygments in /usr/local/lib/python3.6/dist-packages (from jupyter-console->jupyter->unityagents==0.4.0) (2.6.1)\n",
            "Requirement already satisfied: prompt-toolkit<2.0.0,>=1.0.0 in /usr/local/lib/python3.6/dist-packages (from jupyter-console->jupyter->unityagents==0.4.0) (1.0.18)\n",
            "Requirement already satisfied: ipython-genutils in /usr/local/lib/python3.6/dist-packages (from qtconsole->jupyter->unityagents==0.4.0) (0.2.0)\n",
            "Requirement already satisfied: jupyter-core in /usr/local/lib/python3.6/dist-packages (from qtconsole->jupyter->unityagents==0.4.0) (4.6.3)\n",
            "Requirement already satisfied: pyzmq>=17.1 in /usr/local/lib/python3.6/dist-packages (from qtconsole->jupyter->unityagents==0.4.0) (19.0.2)\n",
            "Requirement already satisfied: qtpy in /usr/local/lib/python3.6/dist-packages (from qtconsole->jupyter->unityagents==0.4.0) (1.9.0)\n",
            "Requirement already satisfied: terminado>=0.8.1 in /usr/local/lib/python3.6/dist-packages (from notebook->jupyter->unityagents==0.4.0) (0.9.1)\n",
            "Requirement already satisfied: jinja2 in /usr/local/lib/python3.6/dist-packages (from notebook->jupyter->unityagents==0.4.0) (2.11.2)\n",
            "Requirement already satisfied: Send2Trash in /usr/local/lib/python3.6/dist-packages (from notebook->jupyter->unityagents==0.4.0) (1.5.0)\n",
            "Requirement already satisfied: defusedxml in /usr/local/lib/python3.6/dist-packages (from nbconvert->jupyter->unityagents==0.4.0) (0.6.0)\n",
            "Requirement already satisfied: mistune<2,>=0.8.1 in /usr/local/lib/python3.6/dist-packages (from nbconvert->jupyter->unityagents==0.4.0) (0.8.4)\n",
            "Requirement already satisfied: entrypoints>=0.2.2 in /usr/local/lib/python3.6/dist-packages (from nbconvert->jupyter->unityagents==0.4.0) (0.3)\n",
            "Requirement already satisfied: testpath in /usr/local/lib/python3.6/dist-packages (from nbconvert->jupyter->unityagents==0.4.0) (0.4.4)\n",
            "Requirement already satisfied: pandocfilters>=1.4.1 in /usr/local/lib/python3.6/dist-packages (from nbconvert->jupyter->unityagents==0.4.0) (1.4.2)\n",
            "Requirement already satisfied: simplegeneric>0.8 in /usr/local/lib/python3.6/dist-packages (from ipython>=4.0.0->ipykernel->unityagents==0.4.0) (0.8.1)\n",
            "Requirement already satisfied: pickleshare in /usr/local/lib/python3.6/dist-packages (from ipython>=4.0.0->ipykernel->unityagents==0.4.0) (0.7.5)\n",
            "Requirement already satisfied: decorator in /usr/local/lib/python3.6/dist-packages (from ipython>=4.0.0->ipykernel->unityagents==0.4.0) (4.4.2)\n",
            "Requirement already satisfied: pexpect; sys_platform != \"win32\" in /usr/local/lib/python3.6/dist-packages (from ipython>=4.0.0->ipykernel->unityagents==0.4.0) (4.8.0)\n",
            "Requirement already satisfied: importlib-metadata; python_version < \"3.8\" in /usr/local/lib/python3.6/dist-packages (from markdown>=2.6.8->tensorboard<1.8.0,>=1.7.0->tensorflow==1.7.1->unityagents==0.4.0) (2.0.0)\n",
            "Requirement already satisfied: jsonschema!=2.5.0,>=2.4 in /usr/local/lib/python3.6/dist-packages (from nbformat>=4.2.0->ipywidgets->jupyter->unityagents==0.4.0) (2.6.0)\n",
            "Requirement already satisfied: wcwidth in /usr/local/lib/python3.6/dist-packages (from prompt-toolkit<2.0.0,>=1.0.0->jupyter-console->jupyter->unityagents==0.4.0) (0.2.5)\n",
            "Requirement already satisfied: ptyprocess; os_name != \"nt\" in /usr/local/lib/python3.6/dist-packages (from terminado>=0.8.1->notebook->jupyter->unityagents==0.4.0) (0.6.0)\n",
            "Requirement already satisfied: MarkupSafe>=0.23 in /usr/local/lib/python3.6/dist-packages (from jinja2->notebook->jupyter->unityagents==0.4.0) (1.1.1)\n",
            "Requirement already satisfied: zipp>=0.5 in /usr/local/lib/python3.6/dist-packages (from importlib-metadata; python_version < \"3.8\"->markdown>=2.6.8->tensorboard<1.8.0,>=1.7.0->tensorflow==1.7.1->unityagents==0.4.0) (3.2.0)\n",
            "Building wheels for collected packages: unityagents, html5lib\n",
            "  Building wheel for unityagents (setup.py) ... \u001b[?25l\u001b[?25hdone\n",
            "  Created wheel for unityagents: filename=unityagents-0.4.0-cp36-none-any.whl size=71641 sha256=58c9af0ffc7cd70d2fc34cf17db19f91e956b444e721c1670e26a16d6dc617c7\n",
            "  Stored in directory: /tmp/pip-ephem-wheel-cache-gfas1ven/wheels/70/a0/a6/6112668f018c42dcdddf1e16bc95f8fcc25dd950fe20ab8b80\n",
            "  Building wheel for html5lib (setup.py) ... \u001b[?25l\u001b[?25hdone\n",
            "  Created wheel for html5lib: filename=html5lib-0.9999999-cp36-none-any.whl size=107220 sha256=cab456343ac7b13bfecdbe9785128268eb943c5602dcf692810152002b88865a\n",
            "  Stored in directory: /root/.cache/pip/wheels/50/ae/f9/d2b189788efcf61d1ee0e36045476735c838898eef1cad6e29\n",
            "Successfully built unityagents html5lib\n",
            "\u001b[31mERROR: torchvision 0.7.0+cu101 has requirement torch==1.6.0, but you'll have torch 0.4.0 which is incompatible.\u001b[0m\n",
            "\u001b[31mERROR: tensorflow-metadata 0.24.0 has requirement protobuf<4,>=3.7, but you'll have protobuf 3.5.2 which is incompatible.\u001b[0m\n",
            "\u001b[31mERROR: tensorflow-hub 0.9.0 has requirement protobuf>=3.8.0, but you'll have protobuf 3.5.2 which is incompatible.\u001b[0m\n",
            "\u001b[31mERROR: tensorflow-datasets 2.1.0 has requirement protobuf>=3.6.1, but you'll have protobuf 3.5.2 which is incompatible.\u001b[0m\n",
            "\u001b[31mERROR: googleapis-common-protos 1.52.0 has requirement protobuf>=3.6.0, but you'll have protobuf 3.5.2 which is incompatible.\u001b[0m\n",
            "\u001b[31mERROR: google-cloud-bigquery 1.21.0 has requirement protobuf>=3.6.0, but you'll have protobuf 3.5.2 which is incompatible.\u001b[0m\n",
            "\u001b[31mERROR: fastai 1.0.61 has requirement torch>=1.0.0, but you'll have torch 0.4.0 which is incompatible.\u001b[0m\n",
            "Installing collected packages: protobuf, html5lib, bleach, tensorboard, grpcio, tensorflow, torch, unityagents\n",
            "  Found existing installation: protobuf 3.12.4\n",
            "    Uninstalling protobuf-3.12.4:\n",
            "      Successfully uninstalled protobuf-3.12.4\n",
            "  Found existing installation: html5lib 1.0.1\n",
            "    Uninstalling html5lib-1.0.1:\n",
            "      Successfully uninstalled html5lib-1.0.1\n",
            "  Found existing installation: bleach 3.2.1\n",
            "    Uninstalling bleach-3.2.1:\n",
            "      Successfully uninstalled bleach-3.2.1\n",
            "  Found existing installation: tensorboard 2.3.0\n",
            "    Uninstalling tensorboard-2.3.0:\n",
            "      Successfully uninstalled tensorboard-2.3.0\n",
            "  Found existing installation: grpcio 1.32.0\n",
            "    Uninstalling grpcio-1.32.0:\n",
            "      Successfully uninstalled grpcio-1.32.0\n",
            "  Found existing installation: tensorflow 2.3.0\n",
            "    Uninstalling tensorflow-2.3.0:\n",
            "      Successfully uninstalled tensorflow-2.3.0\n",
            "  Found existing installation: torch 1.6.0+cu101\n",
            "    Uninstalling torch-1.6.0+cu101:\n",
            "      Successfully uninstalled torch-1.6.0+cu101\n",
            "Successfully installed bleach-1.5.0 grpcio-1.11.0 html5lib-0.9999999 protobuf-3.5.2 tensorboard-1.7.0 tensorflow-1.7.1 torch-0.4.0 unityagents-0.4.0\n"
          ],
          "name": "stdout"
        }
      ]
    },
    {
      "cell_type": "code",
      "metadata": {
        "id": "SQ_RJA27LMZn"
      },
      "source": [
        "\n",
        "\n",
        "from unityagents import UnityEnvironment\n",
        "import numpy as np"
      ],
      "execution_count": 37,
      "outputs": []
    },
    {
      "cell_type": "markdown",
      "metadata": {
        "id": "sq-1cbG3LMZr"
      },
      "source": [
        "Next, we will start the environment!  **_Before running the code cell below_**, change the `file_name` parameter to match the location of the Unity environment that you downloaded.\n",
        "\n",
        "- **Mac**: `\"path/to/Banana.app\"`\n",
        "- **Windows** (x86): `\"path/to/Banana_Windows_x86/Banana.exe\"`\n",
        "- **Windows** (x86_64): `\"path/to/Banana_Windows_x86_64/Banana.exe\"`\n",
        "- **Linux** (x86): `\"path/to/Banana_Linux/Banana.x86\"`\n",
        "- **Linux** (x86_64): `\"path/to/Banana_Linux/Banana.x86_64\"`\n",
        "- **Linux** (x86, headless): `\"path/to/Banana_Linux_NoVis/Banana.x86\"`\n",
        "- **Linux** (x86_64, headless): `\"path/to/Banana_Linux_NoVis/Banana.x86_64\"`\n",
        "\n",
        "For instance, if you are using a Mac, then you downloaded `Banana.app`.  If this file is in the same folder as the notebook, then the line below should appear as follows:\n",
        "```\n",
        "env = UnityEnvironment(file_name=\"Banana.app\")\n",
        "```"
      ]
    },
    {
      "cell_type": "code",
      "metadata": {
        "id": "qhZZMTdNLMZs",
        "outputId": "866f270e-901e-4b20-e878-b50aa19cc503",
        "colab": {
          "base_uri": "https://localhost:8080/",
          "height": 306
        }
      },
      "source": [
        "env = UnityEnvironment(file_name=\"Banana_Linux_NoVis/Banana.x86_64\")"
      ],
      "execution_count": 38,
      "outputs": [
        {
          "output_type": "error",
          "ename": "OSError",
          "evalue": "ignored",
          "traceback": [
            "\u001b[0;31m---------------------------------------------------------------------------\u001b[0m",
            "\u001b[0;31mOSError\u001b[0m                                   Traceback (most recent call last)",
            "\u001b[0;32m<ipython-input-38-baa69b3d2409>\u001b[0m in \u001b[0;36m<module>\u001b[0;34m()\u001b[0m\n\u001b[0;32m----> 1\u001b[0;31m \u001b[0menv\u001b[0m \u001b[0;34m=\u001b[0m \u001b[0mUnityEnvironment\u001b[0m\u001b[0;34m(\u001b[0m\u001b[0mfile_name\u001b[0m\u001b[0;34m=\u001b[0m\u001b[0;34m\"Banana_Linux_NoVis/Banana.x86_64\"\u001b[0m\u001b[0;34m)\u001b[0m\u001b[0;34m\u001b[0m\u001b[0;34m\u001b[0m\u001b[0m\n\u001b[0m",
            "\u001b[0;32m/usr/local/lib/python3.6/dist-packages/unityagents/environment.py\u001b[0m in \u001b[0;36m__init__\u001b[0;34m(self, file_name, worker_id, base_port, curriculum, seed, docker_training, no_graphics)\u001b[0m\n\u001b[1;32m     62\u001b[0m         )\n\u001b[1;32m     63\u001b[0m         \u001b[0;32mtry\u001b[0m\u001b[0;34m:\u001b[0m\u001b[0;34m\u001b[0m\u001b[0;34m\u001b[0m\u001b[0m\n\u001b[0;32m---> 64\u001b[0;31m             \u001b[0maca_params\u001b[0m \u001b[0;34m=\u001b[0m \u001b[0mself\u001b[0m\u001b[0;34m.\u001b[0m\u001b[0msend_academy_parameters\u001b[0m\u001b[0;34m(\u001b[0m\u001b[0mrl_init_parameters_in\u001b[0m\u001b[0;34m)\u001b[0m\u001b[0;34m\u001b[0m\u001b[0;34m\u001b[0m\u001b[0m\n\u001b[0m\u001b[1;32m     65\u001b[0m         \u001b[0;32mexcept\u001b[0m \u001b[0mUnityTimeOutException\u001b[0m\u001b[0;34m:\u001b[0m\u001b[0;34m\u001b[0m\u001b[0;34m\u001b[0m\u001b[0m\n\u001b[1;32m     66\u001b[0m             \u001b[0mself\u001b[0m\u001b[0;34m.\u001b[0m\u001b[0m_close\u001b[0m\u001b[0;34m(\u001b[0m\u001b[0;34m)\u001b[0m\u001b[0;34m\u001b[0m\u001b[0;34m\u001b[0m\u001b[0m\n",
            "\u001b[0;32m/usr/local/lib/python3.6/dist-packages/unityagents/environment.py\u001b[0m in \u001b[0;36msend_academy_parameters\u001b[0;34m(self, init_parameters)\u001b[0m\n\u001b[1;32m    503\u001b[0m         \u001b[0minputs\u001b[0m \u001b[0;34m=\u001b[0m \u001b[0mUnityInput\u001b[0m\u001b[0;34m(\u001b[0m\u001b[0;34m)\u001b[0m\u001b[0;34m\u001b[0m\u001b[0;34m\u001b[0m\u001b[0m\n\u001b[1;32m    504\u001b[0m         \u001b[0minputs\u001b[0m\u001b[0;34m.\u001b[0m\u001b[0mrl_initialization_input\u001b[0m\u001b[0;34m.\u001b[0m\u001b[0mCopyFrom\u001b[0m\u001b[0;34m(\u001b[0m\u001b[0minit_parameters\u001b[0m\u001b[0;34m)\u001b[0m\u001b[0;34m\u001b[0m\u001b[0;34m\u001b[0m\u001b[0m\n\u001b[0;32m--> 505\u001b[0;31m         \u001b[0;32mreturn\u001b[0m \u001b[0mself\u001b[0m\u001b[0;34m.\u001b[0m\u001b[0mcommunicator\u001b[0m\u001b[0;34m.\u001b[0m\u001b[0minitialize\u001b[0m\u001b[0;34m(\u001b[0m\u001b[0minputs\u001b[0m\u001b[0;34m)\u001b[0m\u001b[0;34m.\u001b[0m\u001b[0mrl_initialization_output\u001b[0m\u001b[0;34m\u001b[0m\u001b[0;34m\u001b[0m\u001b[0m\n\u001b[0m\u001b[1;32m    506\u001b[0m \u001b[0;34m\u001b[0m\u001b[0m\n\u001b[1;32m    507\u001b[0m     \u001b[0;32mdef\u001b[0m \u001b[0mwrap_unity_input\u001b[0m\u001b[0;34m(\u001b[0m\u001b[0mself\u001b[0m\u001b[0;34m,\u001b[0m \u001b[0mrl_input\u001b[0m\u001b[0;34m:\u001b[0m \u001b[0mUnityRLInput\u001b[0m\u001b[0;34m)\u001b[0m \u001b[0;34m->\u001b[0m \u001b[0mUnityOutput\u001b[0m\u001b[0;34m:\u001b[0m\u001b[0;34m\u001b[0m\u001b[0;34m\u001b[0m\u001b[0m\n",
            "\u001b[0;32m/usr/local/lib/python3.6/dist-packages/unityagents/rpc_communicator.py\u001b[0m in \u001b[0;36minitialize\u001b[0;34m(self, inputs)\u001b[0m\n\u001b[1;32m     56\u001b[0m                 \u001b[0;34m\"You may need to manually close a previously opened environment \"\u001b[0m\u001b[0;34m\u001b[0m\u001b[0;34m\u001b[0m\u001b[0m\n\u001b[1;32m     57\u001b[0m                 \"or use a different worker number.\".format(str(self.worker_id)))\n\u001b[0;32m---> 58\u001b[0;31m         \u001b[0;32mif\u001b[0m \u001b[0;32mnot\u001b[0m \u001b[0mself\u001b[0m\u001b[0;34m.\u001b[0m\u001b[0munity_to_external\u001b[0m\u001b[0;34m.\u001b[0m\u001b[0mparent_conn\u001b[0m\u001b[0;34m.\u001b[0m\u001b[0mpoll\u001b[0m\u001b[0;34m(\u001b[0m\u001b[0;36m30\u001b[0m\u001b[0;34m)\u001b[0m\u001b[0;34m:\u001b[0m\u001b[0;34m\u001b[0m\u001b[0;34m\u001b[0m\u001b[0m\n\u001b[0m\u001b[1;32m     59\u001b[0m             raise UnityTimeOutException(\n\u001b[1;32m     60\u001b[0m                 \u001b[0;34m\"The Unity environment took too long to respond. Make sure that :\\n\"\u001b[0m\u001b[0;34m\u001b[0m\u001b[0;34m\u001b[0m\u001b[0m\n",
            "\u001b[0;32m/usr/lib/python3.6/multiprocessing/connection.py\u001b[0m in \u001b[0;36mpoll\u001b[0;34m(self, timeout)\u001b[0m\n\u001b[1;32m    253\u001b[0m     \u001b[0;32mdef\u001b[0m \u001b[0mpoll\u001b[0m\u001b[0;34m(\u001b[0m\u001b[0mself\u001b[0m\u001b[0;34m,\u001b[0m \u001b[0mtimeout\u001b[0m\u001b[0;34m=\u001b[0m\u001b[0;36m0.0\u001b[0m\u001b[0;34m)\u001b[0m\u001b[0;34m:\u001b[0m\u001b[0;34m\u001b[0m\u001b[0;34m\u001b[0m\u001b[0m\n\u001b[1;32m    254\u001b[0m         \u001b[0;34m\"\"\"Whether there is any input available to be read\"\"\"\u001b[0m\u001b[0;34m\u001b[0m\u001b[0;34m\u001b[0m\u001b[0m\n\u001b[0;32m--> 255\u001b[0;31m         \u001b[0mself\u001b[0m\u001b[0;34m.\u001b[0m\u001b[0m_check_closed\u001b[0m\u001b[0;34m(\u001b[0m\u001b[0;34m)\u001b[0m\u001b[0;34m\u001b[0m\u001b[0;34m\u001b[0m\u001b[0m\n\u001b[0m\u001b[1;32m    256\u001b[0m         \u001b[0mself\u001b[0m\u001b[0;34m.\u001b[0m\u001b[0m_check_readable\u001b[0m\u001b[0;34m(\u001b[0m\u001b[0;34m)\u001b[0m\u001b[0;34m\u001b[0m\u001b[0;34m\u001b[0m\u001b[0m\n\u001b[1;32m    257\u001b[0m         \u001b[0;32mreturn\u001b[0m \u001b[0mself\u001b[0m\u001b[0;34m.\u001b[0m\u001b[0m_poll\u001b[0m\u001b[0;34m(\u001b[0m\u001b[0mtimeout\u001b[0m\u001b[0;34m)\u001b[0m\u001b[0;34m\u001b[0m\u001b[0;34m\u001b[0m\u001b[0m\n",
            "\u001b[0;32m/usr/lib/python3.6/multiprocessing/connection.py\u001b[0m in \u001b[0;36m_check_closed\u001b[0;34m(self)\u001b[0m\n\u001b[1;32m    134\u001b[0m     \u001b[0;32mdef\u001b[0m \u001b[0m_check_closed\u001b[0m\u001b[0;34m(\u001b[0m\u001b[0mself\u001b[0m\u001b[0;34m)\u001b[0m\u001b[0;34m:\u001b[0m\u001b[0;34m\u001b[0m\u001b[0;34m\u001b[0m\u001b[0m\n\u001b[1;32m    135\u001b[0m         \u001b[0;32mif\u001b[0m \u001b[0mself\u001b[0m\u001b[0;34m.\u001b[0m\u001b[0m_handle\u001b[0m \u001b[0;32mis\u001b[0m \u001b[0;32mNone\u001b[0m\u001b[0;34m:\u001b[0m\u001b[0;34m\u001b[0m\u001b[0;34m\u001b[0m\u001b[0m\n\u001b[0;32m--> 136\u001b[0;31m             \u001b[0;32mraise\u001b[0m \u001b[0mOSError\u001b[0m\u001b[0;34m(\u001b[0m\u001b[0;34m\"handle is closed\"\u001b[0m\u001b[0;34m)\u001b[0m\u001b[0;34m\u001b[0m\u001b[0;34m\u001b[0m\u001b[0m\n\u001b[0m\u001b[1;32m    137\u001b[0m \u001b[0;34m\u001b[0m\u001b[0m\n\u001b[1;32m    138\u001b[0m     \u001b[0;32mdef\u001b[0m \u001b[0m_check_readable\u001b[0m\u001b[0;34m(\u001b[0m\u001b[0mself\u001b[0m\u001b[0;34m)\u001b[0m\u001b[0;34m:\u001b[0m\u001b[0;34m\u001b[0m\u001b[0;34m\u001b[0m\u001b[0m\n",
            "\u001b[0;31mOSError\u001b[0m: handle is closed"
          ]
        }
      ]
    },
    {
      "cell_type": "markdown",
      "metadata": {
        "id": "xG0Rp03iLMZw"
      },
      "source": [
        "Environments contain **_brains_** which are responsible for deciding the actions of their associated agents. Here we check for the first brain available, and set it as the default brain we will be controlling from Python."
      ]
    },
    {
      "cell_type": "code",
      "metadata": {
        "id": "dqh3jPiYLMZx",
        "outputId": "f053bafd-c73d-460d-87cb-bc0e75d718d1",
        "colab": {
          "base_uri": "https://localhost:8080/",
          "height": 153
        }
      },
      "source": [
        "# get the default brain\n",
        "brain_name = env.brain_names[0]\n",
        "brain = env.brains[brain_name]\n",
        "print(brain)"
      ],
      "execution_count": 32,
      "outputs": [
        {
          "output_type": "stream",
          "text": [
            "Unity brain name: BananaBrain\n",
            "        Number of Visual Observations (per agent): 0\n",
            "        Vector Observation space type: continuous\n",
            "        Vector Observation space size (per agent): 37\n",
            "        Number of stacked Vector Observation: 1\n",
            "        Vector Action space type: discrete\n",
            "        Vector Action space size (per agent): 4\n",
            "        Vector Action descriptions: , , , \n"
          ],
          "name": "stdout"
        }
      ]
    },
    {
      "cell_type": "markdown",
      "metadata": {
        "id": "IC_FgiAuLMZ0"
      },
      "source": [
        "### 2. Examine the State and Action Spaces\n",
        "\n",
        "The simulation contains a single agent that navigates a large environment.  At each time step, it has four actions at its disposal:\n",
        "- `0` - walk forward \n",
        "- `1` - walk backward\n",
        "- `2` - turn left\n",
        "- `3` - turn right\n",
        "\n",
        "The state space has `37` dimensions and contains the agent's velocity, along with ray-based perception of objects around agent's forward direction.  A reward of `+1` is provided for collecting a yellow banana, and a reward of `-1` is provided for collecting a blue banana. \n",
        "\n",
        "Run the code cell below to print some information about the environment."
      ]
    },
    {
      "cell_type": "code",
      "metadata": {
        "id": "729XXs5DLMZ0",
        "outputId": "b3782f98-3724-4870-dcc1-059f75b4eabf",
        "colab": {
          "base_uri": "https://localhost:8080/",
          "height": 374
        }
      },
      "source": [
        "# reset the environment\n",
        "env_info = env.reset(train_mode=True)[brain_name]\n",
        "\n",
        "# number of agents in the environment\n",
        "print('Number of agents:', len(env_info.agents))\n",
        "\n",
        "# number of actions\n",
        "action_size = brain.vector_action_space_size\n",
        "print('Number of actions:', action_size)\n",
        "\n",
        "# examine the state space \n",
        "state = env_info.vector_observations[0]\n",
        "print('States look like:', state)\n",
        "state_size = len(state)\n",
        "print('States have length:', state_size)"
      ],
      "execution_count": 33,
      "outputs": [
        {
          "output_type": "error",
          "ename": "KeyboardInterrupt",
          "evalue": "ignored",
          "traceback": [
            "\u001b[0;31m---------------------------------------------------------------------------\u001b[0m",
            "\u001b[0;31mKeyboardInterrupt\u001b[0m                         Traceback (most recent call last)",
            "\u001b[0;32m<ipython-input-33-c6aa12bad02b>\u001b[0m in \u001b[0;36m<module>\u001b[0;34m()\u001b[0m\n\u001b[1;32m      1\u001b[0m \u001b[0;31m# reset the environment\u001b[0m\u001b[0;34m\u001b[0m\u001b[0;34m\u001b[0m\u001b[0;34m\u001b[0m\u001b[0m\n\u001b[0;32m----> 2\u001b[0;31m \u001b[0menv_info\u001b[0m \u001b[0;34m=\u001b[0m \u001b[0menv\u001b[0m\u001b[0;34m.\u001b[0m\u001b[0mreset\u001b[0m\u001b[0;34m(\u001b[0m\u001b[0mtrain_mode\u001b[0m\u001b[0;34m=\u001b[0m\u001b[0;32mTrue\u001b[0m\u001b[0;34m)\u001b[0m\u001b[0;34m[\u001b[0m\u001b[0mbrain_name\u001b[0m\u001b[0;34m]\u001b[0m\u001b[0;34m\u001b[0m\u001b[0;34m\u001b[0m\u001b[0m\n\u001b[0m\u001b[1;32m      3\u001b[0m \u001b[0;34m\u001b[0m\u001b[0m\n\u001b[1;32m      4\u001b[0m \u001b[0;31m# number of agents in the environment\u001b[0m\u001b[0;34m\u001b[0m\u001b[0;34m\u001b[0m\u001b[0;34m\u001b[0m\u001b[0m\n\u001b[1;32m      5\u001b[0m \u001b[0mprint\u001b[0m\u001b[0;34m(\u001b[0m\u001b[0;34m'Number of agents:'\u001b[0m\u001b[0;34m,\u001b[0m \u001b[0mlen\u001b[0m\u001b[0;34m(\u001b[0m\u001b[0menv_info\u001b[0m\u001b[0;34m.\u001b[0m\u001b[0magents\u001b[0m\u001b[0;34m)\u001b[0m\u001b[0;34m)\u001b[0m\u001b[0;34m\u001b[0m\u001b[0;34m\u001b[0m\u001b[0m\n",
            "\u001b[0;32m/usr/local/lib/python3.6/dist-packages/unityagents/environment.py\u001b[0m in \u001b[0;36mreset\u001b[0;34m(self, train_mode, config, lesson)\u001b[0m\n\u001b[1;32m    259\u001b[0m         \u001b[0;32mif\u001b[0m \u001b[0mself\u001b[0m\u001b[0;34m.\u001b[0m\u001b[0m_loaded\u001b[0m\u001b[0;34m:\u001b[0m\u001b[0;34m\u001b[0m\u001b[0;34m\u001b[0m\u001b[0m\n\u001b[1;32m    260\u001b[0m             outputs = self.communicator.exchange(\n\u001b[0;32m--> 261\u001b[0;31m                 \u001b[0mself\u001b[0m\u001b[0;34m.\u001b[0m\u001b[0m_generate_reset_input\u001b[0m\u001b[0;34m(\u001b[0m\u001b[0mtrain_mode\u001b[0m\u001b[0;34m,\u001b[0m \u001b[0mconfig\u001b[0m\u001b[0;34m)\u001b[0m\u001b[0;34m\u001b[0m\u001b[0;34m\u001b[0m\u001b[0m\n\u001b[0m\u001b[1;32m    262\u001b[0m             )\n\u001b[1;32m    263\u001b[0m             \u001b[0;32mif\u001b[0m \u001b[0moutputs\u001b[0m \u001b[0;32mis\u001b[0m \u001b[0;32mNone\u001b[0m\u001b[0;34m:\u001b[0m\u001b[0;34m\u001b[0m\u001b[0;34m\u001b[0m\u001b[0m\n",
            "\u001b[0;32m/usr/local/lib/python3.6/dist-packages/unityagents/rpc_communicator.py\u001b[0m in \u001b[0;36mexchange\u001b[0;34m(self, inputs)\u001b[0m\n\u001b[1;32m     76\u001b[0m         \u001b[0mmessage\u001b[0m\u001b[0;34m.\u001b[0m\u001b[0munity_input\u001b[0m\u001b[0;34m.\u001b[0m\u001b[0mCopyFrom\u001b[0m\u001b[0;34m(\u001b[0m\u001b[0minputs\u001b[0m\u001b[0;34m)\u001b[0m\u001b[0;34m\u001b[0m\u001b[0;34m\u001b[0m\u001b[0m\n\u001b[1;32m     77\u001b[0m         \u001b[0mself\u001b[0m\u001b[0;34m.\u001b[0m\u001b[0munity_to_external\u001b[0m\u001b[0;34m.\u001b[0m\u001b[0mparent_conn\u001b[0m\u001b[0;34m.\u001b[0m\u001b[0msend\u001b[0m\u001b[0;34m(\u001b[0m\u001b[0mmessage\u001b[0m\u001b[0;34m)\u001b[0m\u001b[0;34m\u001b[0m\u001b[0;34m\u001b[0m\u001b[0m\n\u001b[0;32m---> 78\u001b[0;31m         \u001b[0moutput\u001b[0m \u001b[0;34m=\u001b[0m \u001b[0mself\u001b[0m\u001b[0;34m.\u001b[0m\u001b[0munity_to_external\u001b[0m\u001b[0;34m.\u001b[0m\u001b[0mparent_conn\u001b[0m\u001b[0;34m.\u001b[0m\u001b[0mrecv\u001b[0m\u001b[0;34m(\u001b[0m\u001b[0;34m)\u001b[0m\u001b[0;34m\u001b[0m\u001b[0;34m\u001b[0m\u001b[0m\n\u001b[0m\u001b[1;32m     79\u001b[0m         \u001b[0;32mif\u001b[0m \u001b[0moutput\u001b[0m\u001b[0;34m.\u001b[0m\u001b[0mheader\u001b[0m\u001b[0;34m.\u001b[0m\u001b[0mstatus\u001b[0m \u001b[0;34m!=\u001b[0m \u001b[0;36m200\u001b[0m\u001b[0;34m:\u001b[0m\u001b[0;34m\u001b[0m\u001b[0;34m\u001b[0m\u001b[0m\n\u001b[1;32m     80\u001b[0m             \u001b[0;32mreturn\u001b[0m \u001b[0;32mNone\u001b[0m\u001b[0;34m\u001b[0m\u001b[0;34m\u001b[0m\u001b[0m\n",
            "\u001b[0;32m/usr/lib/python3.6/multiprocessing/connection.py\u001b[0m in \u001b[0;36mrecv\u001b[0;34m(self)\u001b[0m\n\u001b[1;32m    248\u001b[0m         \u001b[0mself\u001b[0m\u001b[0;34m.\u001b[0m\u001b[0m_check_closed\u001b[0m\u001b[0;34m(\u001b[0m\u001b[0;34m)\u001b[0m\u001b[0;34m\u001b[0m\u001b[0;34m\u001b[0m\u001b[0m\n\u001b[1;32m    249\u001b[0m         \u001b[0mself\u001b[0m\u001b[0;34m.\u001b[0m\u001b[0m_check_readable\u001b[0m\u001b[0;34m(\u001b[0m\u001b[0;34m)\u001b[0m\u001b[0;34m\u001b[0m\u001b[0;34m\u001b[0m\u001b[0m\n\u001b[0;32m--> 250\u001b[0;31m         \u001b[0mbuf\u001b[0m \u001b[0;34m=\u001b[0m \u001b[0mself\u001b[0m\u001b[0;34m.\u001b[0m\u001b[0m_recv_bytes\u001b[0m\u001b[0;34m(\u001b[0m\u001b[0;34m)\u001b[0m\u001b[0;34m\u001b[0m\u001b[0;34m\u001b[0m\u001b[0m\n\u001b[0m\u001b[1;32m    251\u001b[0m         \u001b[0;32mreturn\u001b[0m \u001b[0m_ForkingPickler\u001b[0m\u001b[0;34m.\u001b[0m\u001b[0mloads\u001b[0m\u001b[0;34m(\u001b[0m\u001b[0mbuf\u001b[0m\u001b[0;34m.\u001b[0m\u001b[0mgetbuffer\u001b[0m\u001b[0;34m(\u001b[0m\u001b[0;34m)\u001b[0m\u001b[0;34m)\u001b[0m\u001b[0;34m\u001b[0m\u001b[0;34m\u001b[0m\u001b[0m\n\u001b[1;32m    252\u001b[0m \u001b[0;34m\u001b[0m\u001b[0m\n",
            "\u001b[0;32m/usr/lib/python3.6/multiprocessing/connection.py\u001b[0m in \u001b[0;36m_recv_bytes\u001b[0;34m(self, maxsize)\u001b[0m\n\u001b[1;32m    405\u001b[0m \u001b[0;34m\u001b[0m\u001b[0m\n\u001b[1;32m    406\u001b[0m     \u001b[0;32mdef\u001b[0m \u001b[0m_recv_bytes\u001b[0m\u001b[0;34m(\u001b[0m\u001b[0mself\u001b[0m\u001b[0;34m,\u001b[0m \u001b[0mmaxsize\u001b[0m\u001b[0;34m=\u001b[0m\u001b[0;32mNone\u001b[0m\u001b[0;34m)\u001b[0m\u001b[0;34m:\u001b[0m\u001b[0;34m\u001b[0m\u001b[0;34m\u001b[0m\u001b[0m\n\u001b[0;32m--> 407\u001b[0;31m         \u001b[0mbuf\u001b[0m \u001b[0;34m=\u001b[0m \u001b[0mself\u001b[0m\u001b[0;34m.\u001b[0m\u001b[0m_recv\u001b[0m\u001b[0;34m(\u001b[0m\u001b[0;36m4\u001b[0m\u001b[0;34m)\u001b[0m\u001b[0;34m\u001b[0m\u001b[0;34m\u001b[0m\u001b[0m\n\u001b[0m\u001b[1;32m    408\u001b[0m         \u001b[0msize\u001b[0m\u001b[0;34m,\u001b[0m \u001b[0;34m=\u001b[0m \u001b[0mstruct\u001b[0m\u001b[0;34m.\u001b[0m\u001b[0munpack\u001b[0m\u001b[0;34m(\u001b[0m\u001b[0;34m\"!i\"\u001b[0m\u001b[0;34m,\u001b[0m \u001b[0mbuf\u001b[0m\u001b[0;34m.\u001b[0m\u001b[0mgetvalue\u001b[0m\u001b[0;34m(\u001b[0m\u001b[0;34m)\u001b[0m\u001b[0;34m)\u001b[0m\u001b[0;34m\u001b[0m\u001b[0;34m\u001b[0m\u001b[0m\n\u001b[1;32m    409\u001b[0m         \u001b[0;32mif\u001b[0m \u001b[0mmaxsize\u001b[0m \u001b[0;32mis\u001b[0m \u001b[0;32mnot\u001b[0m \u001b[0;32mNone\u001b[0m \u001b[0;32mand\u001b[0m \u001b[0msize\u001b[0m \u001b[0;34m>\u001b[0m \u001b[0mmaxsize\u001b[0m\u001b[0;34m:\u001b[0m\u001b[0;34m\u001b[0m\u001b[0;34m\u001b[0m\u001b[0m\n",
            "\u001b[0;32m/usr/lib/python3.6/multiprocessing/connection.py\u001b[0m in \u001b[0;36m_recv\u001b[0;34m(self, size, read)\u001b[0m\n\u001b[1;32m    377\u001b[0m         \u001b[0mremaining\u001b[0m \u001b[0;34m=\u001b[0m \u001b[0msize\u001b[0m\u001b[0;34m\u001b[0m\u001b[0;34m\u001b[0m\u001b[0m\n\u001b[1;32m    378\u001b[0m         \u001b[0;32mwhile\u001b[0m \u001b[0mremaining\u001b[0m \u001b[0;34m>\u001b[0m \u001b[0;36m0\u001b[0m\u001b[0;34m:\u001b[0m\u001b[0;34m\u001b[0m\u001b[0;34m\u001b[0m\u001b[0m\n\u001b[0;32m--> 379\u001b[0;31m             \u001b[0mchunk\u001b[0m \u001b[0;34m=\u001b[0m \u001b[0mread\u001b[0m\u001b[0;34m(\u001b[0m\u001b[0mhandle\u001b[0m\u001b[0;34m,\u001b[0m \u001b[0mremaining\u001b[0m\u001b[0;34m)\u001b[0m\u001b[0;34m\u001b[0m\u001b[0;34m\u001b[0m\u001b[0m\n\u001b[0m\u001b[1;32m    380\u001b[0m             \u001b[0mn\u001b[0m \u001b[0;34m=\u001b[0m \u001b[0mlen\u001b[0m\u001b[0;34m(\u001b[0m\u001b[0mchunk\u001b[0m\u001b[0;34m)\u001b[0m\u001b[0;34m\u001b[0m\u001b[0;34m\u001b[0m\u001b[0m\n\u001b[1;32m    381\u001b[0m             \u001b[0;32mif\u001b[0m \u001b[0mn\u001b[0m \u001b[0;34m==\u001b[0m \u001b[0;36m0\u001b[0m\u001b[0;34m:\u001b[0m\u001b[0;34m\u001b[0m\u001b[0;34m\u001b[0m\u001b[0m\n",
            "\u001b[0;31mKeyboardInterrupt\u001b[0m: "
          ]
        }
      ]
    },
    {
      "cell_type": "markdown",
      "metadata": {
        "id": "QK71Rjz6LMZ2"
      },
      "source": [
        "### 3. Take Random Actions in the Environment\n",
        "\n",
        "In the next code cell, you will learn how to use the Python API to control the agent and receive feedback from the environment.\n",
        "\n",
        "Once this cell is executed, you will watch the agent's performance, if it selects an action (uniformly) at random with each time step.  A window should pop up that allows you to observe the agent, as it moves through the environment.  \n",
        "\n",
        "Of course, as part of the project, you'll have to change the code so that the agent is able to use its experience to gradually choose better actions when interacting with the environment!"
      ]
    },
    {
      "cell_type": "code",
      "metadata": {
        "id": "lR-BCeK6LMZ3",
        "outputId": "d5aec03b-c186-4b49-e1a7-10fb0af6f57f",
        "colab": {
          "base_uri": "https://localhost:8080/",
          "height": 374
        }
      },
      "source": [
        "env_info = env.reset(train_mode=False)[brain_name] # reset the environment\n",
        "state = env_info.vector_observations[0]            # get the current state\n",
        "score = 0                                          # initialize the score\n",
        "while True:\n",
        "    action = np.random.randint(action_size)        # select an action\n",
        "    print(f'action: {action}')\n",
        "    env_info = env.step(action)[brain_name]        # send the action to the environment\n",
        "    print(f'env_info: {env_info}')\n",
        "    next_state = env_info.vector_observations[0]   # get the next state\n",
        "    reward = env_info.rewards[0]                   # get the reward\n",
        "    done = env_info.local_done[0]                  # see if episode has finished\n",
        "    score += reward                                # update the score\n",
        "    state = next_state                             # roll over the state to next time step\n",
        "    if done:                                       # exit loop if episode finished\n",
        "        break\n",
        "    \n",
        "print(\"Score: {}\".format(score))"
      ],
      "execution_count": 27,
      "outputs": [
        {
          "output_type": "error",
          "ename": "KeyboardInterrupt",
          "evalue": "ignored",
          "traceback": [
            "\u001b[0;31m---------------------------------------------------------------------------\u001b[0m",
            "\u001b[0;31mKeyboardInterrupt\u001b[0m                         Traceback (most recent call last)",
            "\u001b[0;32m<ipython-input-27-28bc1847a101>\u001b[0m in \u001b[0;36m<module>\u001b[0;34m()\u001b[0m\n\u001b[0;32m----> 1\u001b[0;31m \u001b[0menv_info\u001b[0m \u001b[0;34m=\u001b[0m \u001b[0menv\u001b[0m\u001b[0;34m.\u001b[0m\u001b[0mreset\u001b[0m\u001b[0;34m(\u001b[0m\u001b[0mtrain_mode\u001b[0m\u001b[0;34m=\u001b[0m\u001b[0;32mFalse\u001b[0m\u001b[0;34m)\u001b[0m\u001b[0;34m[\u001b[0m\u001b[0mbrain_name\u001b[0m\u001b[0;34m]\u001b[0m \u001b[0;31m# reset the environment\u001b[0m\u001b[0;34m\u001b[0m\u001b[0;34m\u001b[0m\u001b[0m\n\u001b[0m\u001b[1;32m      2\u001b[0m \u001b[0mstate\u001b[0m \u001b[0;34m=\u001b[0m \u001b[0menv_info\u001b[0m\u001b[0;34m.\u001b[0m\u001b[0mvector_observations\u001b[0m\u001b[0;34m[\u001b[0m\u001b[0;36m0\u001b[0m\u001b[0;34m]\u001b[0m            \u001b[0;31m# get the current state\u001b[0m\u001b[0;34m\u001b[0m\u001b[0;34m\u001b[0m\u001b[0m\n\u001b[1;32m      3\u001b[0m \u001b[0mscore\u001b[0m \u001b[0;34m=\u001b[0m \u001b[0;36m0\u001b[0m                                          \u001b[0;31m# initialize the score\u001b[0m\u001b[0;34m\u001b[0m\u001b[0;34m\u001b[0m\u001b[0m\n\u001b[1;32m      4\u001b[0m \u001b[0;32mwhile\u001b[0m \u001b[0;32mTrue\u001b[0m\u001b[0;34m:\u001b[0m\u001b[0;34m\u001b[0m\u001b[0;34m\u001b[0m\u001b[0m\n\u001b[1;32m      5\u001b[0m     \u001b[0maction\u001b[0m \u001b[0;34m=\u001b[0m \u001b[0mnp\u001b[0m\u001b[0;34m.\u001b[0m\u001b[0mrandom\u001b[0m\u001b[0;34m.\u001b[0m\u001b[0mrandint\u001b[0m\u001b[0;34m(\u001b[0m\u001b[0maction_size\u001b[0m\u001b[0;34m)\u001b[0m        \u001b[0;31m# select an action\u001b[0m\u001b[0;34m\u001b[0m\u001b[0;34m\u001b[0m\u001b[0m\n",
            "\u001b[0;32m/usr/local/lib/python3.6/dist-packages/unityagents/environment.py\u001b[0m in \u001b[0;36mreset\u001b[0;34m(self, train_mode, config, lesson)\u001b[0m\n\u001b[1;32m    259\u001b[0m         \u001b[0;32mif\u001b[0m \u001b[0mself\u001b[0m\u001b[0;34m.\u001b[0m\u001b[0m_loaded\u001b[0m\u001b[0;34m:\u001b[0m\u001b[0;34m\u001b[0m\u001b[0;34m\u001b[0m\u001b[0m\n\u001b[1;32m    260\u001b[0m             outputs = self.communicator.exchange(\n\u001b[0;32m--> 261\u001b[0;31m                 \u001b[0mself\u001b[0m\u001b[0;34m.\u001b[0m\u001b[0m_generate_reset_input\u001b[0m\u001b[0;34m(\u001b[0m\u001b[0mtrain_mode\u001b[0m\u001b[0;34m,\u001b[0m \u001b[0mconfig\u001b[0m\u001b[0;34m)\u001b[0m\u001b[0;34m\u001b[0m\u001b[0;34m\u001b[0m\u001b[0m\n\u001b[0m\u001b[1;32m    262\u001b[0m             )\n\u001b[1;32m    263\u001b[0m             \u001b[0;32mif\u001b[0m \u001b[0moutputs\u001b[0m \u001b[0;32mis\u001b[0m \u001b[0;32mNone\u001b[0m\u001b[0;34m:\u001b[0m\u001b[0;34m\u001b[0m\u001b[0;34m\u001b[0m\u001b[0m\n",
            "\u001b[0;32m/usr/local/lib/python3.6/dist-packages/unityagents/rpc_communicator.py\u001b[0m in \u001b[0;36mexchange\u001b[0;34m(self, inputs)\u001b[0m\n\u001b[1;32m     76\u001b[0m         \u001b[0mmessage\u001b[0m\u001b[0;34m.\u001b[0m\u001b[0munity_input\u001b[0m\u001b[0;34m.\u001b[0m\u001b[0mCopyFrom\u001b[0m\u001b[0;34m(\u001b[0m\u001b[0minputs\u001b[0m\u001b[0;34m)\u001b[0m\u001b[0;34m\u001b[0m\u001b[0;34m\u001b[0m\u001b[0m\n\u001b[1;32m     77\u001b[0m         \u001b[0mself\u001b[0m\u001b[0;34m.\u001b[0m\u001b[0munity_to_external\u001b[0m\u001b[0;34m.\u001b[0m\u001b[0mparent_conn\u001b[0m\u001b[0;34m.\u001b[0m\u001b[0msend\u001b[0m\u001b[0;34m(\u001b[0m\u001b[0mmessage\u001b[0m\u001b[0;34m)\u001b[0m\u001b[0;34m\u001b[0m\u001b[0;34m\u001b[0m\u001b[0m\n\u001b[0;32m---> 78\u001b[0;31m         \u001b[0moutput\u001b[0m \u001b[0;34m=\u001b[0m \u001b[0mself\u001b[0m\u001b[0;34m.\u001b[0m\u001b[0munity_to_external\u001b[0m\u001b[0;34m.\u001b[0m\u001b[0mparent_conn\u001b[0m\u001b[0;34m.\u001b[0m\u001b[0mrecv\u001b[0m\u001b[0;34m(\u001b[0m\u001b[0;34m)\u001b[0m\u001b[0;34m\u001b[0m\u001b[0;34m\u001b[0m\u001b[0m\n\u001b[0m\u001b[1;32m     79\u001b[0m         \u001b[0;32mif\u001b[0m \u001b[0moutput\u001b[0m\u001b[0;34m.\u001b[0m\u001b[0mheader\u001b[0m\u001b[0;34m.\u001b[0m\u001b[0mstatus\u001b[0m \u001b[0;34m!=\u001b[0m \u001b[0;36m200\u001b[0m\u001b[0;34m:\u001b[0m\u001b[0;34m\u001b[0m\u001b[0;34m\u001b[0m\u001b[0m\n\u001b[1;32m     80\u001b[0m             \u001b[0;32mreturn\u001b[0m \u001b[0;32mNone\u001b[0m\u001b[0;34m\u001b[0m\u001b[0;34m\u001b[0m\u001b[0m\n",
            "\u001b[0;32m/usr/lib/python3.6/multiprocessing/connection.py\u001b[0m in \u001b[0;36mrecv\u001b[0;34m(self)\u001b[0m\n\u001b[1;32m    248\u001b[0m         \u001b[0mself\u001b[0m\u001b[0;34m.\u001b[0m\u001b[0m_check_closed\u001b[0m\u001b[0;34m(\u001b[0m\u001b[0;34m)\u001b[0m\u001b[0;34m\u001b[0m\u001b[0;34m\u001b[0m\u001b[0m\n\u001b[1;32m    249\u001b[0m         \u001b[0mself\u001b[0m\u001b[0;34m.\u001b[0m\u001b[0m_check_readable\u001b[0m\u001b[0;34m(\u001b[0m\u001b[0;34m)\u001b[0m\u001b[0;34m\u001b[0m\u001b[0;34m\u001b[0m\u001b[0m\n\u001b[0;32m--> 250\u001b[0;31m         \u001b[0mbuf\u001b[0m \u001b[0;34m=\u001b[0m \u001b[0mself\u001b[0m\u001b[0;34m.\u001b[0m\u001b[0m_recv_bytes\u001b[0m\u001b[0;34m(\u001b[0m\u001b[0;34m)\u001b[0m\u001b[0;34m\u001b[0m\u001b[0;34m\u001b[0m\u001b[0m\n\u001b[0m\u001b[1;32m    251\u001b[0m         \u001b[0;32mreturn\u001b[0m \u001b[0m_ForkingPickler\u001b[0m\u001b[0;34m.\u001b[0m\u001b[0mloads\u001b[0m\u001b[0;34m(\u001b[0m\u001b[0mbuf\u001b[0m\u001b[0;34m.\u001b[0m\u001b[0mgetbuffer\u001b[0m\u001b[0;34m(\u001b[0m\u001b[0;34m)\u001b[0m\u001b[0;34m)\u001b[0m\u001b[0;34m\u001b[0m\u001b[0;34m\u001b[0m\u001b[0m\n\u001b[1;32m    252\u001b[0m \u001b[0;34m\u001b[0m\u001b[0m\n",
            "\u001b[0;32m/usr/lib/python3.6/multiprocessing/connection.py\u001b[0m in \u001b[0;36m_recv_bytes\u001b[0;34m(self, maxsize)\u001b[0m\n\u001b[1;32m    405\u001b[0m \u001b[0;34m\u001b[0m\u001b[0m\n\u001b[1;32m    406\u001b[0m     \u001b[0;32mdef\u001b[0m \u001b[0m_recv_bytes\u001b[0m\u001b[0;34m(\u001b[0m\u001b[0mself\u001b[0m\u001b[0;34m,\u001b[0m \u001b[0mmaxsize\u001b[0m\u001b[0;34m=\u001b[0m\u001b[0;32mNone\u001b[0m\u001b[0;34m)\u001b[0m\u001b[0;34m:\u001b[0m\u001b[0;34m\u001b[0m\u001b[0;34m\u001b[0m\u001b[0m\n\u001b[0;32m--> 407\u001b[0;31m         \u001b[0mbuf\u001b[0m \u001b[0;34m=\u001b[0m \u001b[0mself\u001b[0m\u001b[0;34m.\u001b[0m\u001b[0m_recv\u001b[0m\u001b[0;34m(\u001b[0m\u001b[0;36m4\u001b[0m\u001b[0;34m)\u001b[0m\u001b[0;34m\u001b[0m\u001b[0;34m\u001b[0m\u001b[0m\n\u001b[0m\u001b[1;32m    408\u001b[0m         \u001b[0msize\u001b[0m\u001b[0;34m,\u001b[0m \u001b[0;34m=\u001b[0m \u001b[0mstruct\u001b[0m\u001b[0;34m.\u001b[0m\u001b[0munpack\u001b[0m\u001b[0;34m(\u001b[0m\u001b[0;34m\"!i\"\u001b[0m\u001b[0;34m,\u001b[0m \u001b[0mbuf\u001b[0m\u001b[0;34m.\u001b[0m\u001b[0mgetvalue\u001b[0m\u001b[0;34m(\u001b[0m\u001b[0;34m)\u001b[0m\u001b[0;34m)\u001b[0m\u001b[0;34m\u001b[0m\u001b[0;34m\u001b[0m\u001b[0m\n\u001b[1;32m    409\u001b[0m         \u001b[0;32mif\u001b[0m \u001b[0mmaxsize\u001b[0m \u001b[0;32mis\u001b[0m \u001b[0;32mnot\u001b[0m \u001b[0;32mNone\u001b[0m \u001b[0;32mand\u001b[0m \u001b[0msize\u001b[0m \u001b[0;34m>\u001b[0m \u001b[0mmaxsize\u001b[0m\u001b[0;34m:\u001b[0m\u001b[0;34m\u001b[0m\u001b[0;34m\u001b[0m\u001b[0m\n",
            "\u001b[0;32m/usr/lib/python3.6/multiprocessing/connection.py\u001b[0m in \u001b[0;36m_recv\u001b[0;34m(self, size, read)\u001b[0m\n\u001b[1;32m    377\u001b[0m         \u001b[0mremaining\u001b[0m \u001b[0;34m=\u001b[0m \u001b[0msize\u001b[0m\u001b[0;34m\u001b[0m\u001b[0;34m\u001b[0m\u001b[0m\n\u001b[1;32m    378\u001b[0m         \u001b[0;32mwhile\u001b[0m \u001b[0mremaining\u001b[0m \u001b[0;34m>\u001b[0m \u001b[0;36m0\u001b[0m\u001b[0;34m:\u001b[0m\u001b[0;34m\u001b[0m\u001b[0;34m\u001b[0m\u001b[0m\n\u001b[0;32m--> 379\u001b[0;31m             \u001b[0mchunk\u001b[0m \u001b[0;34m=\u001b[0m \u001b[0mread\u001b[0m\u001b[0;34m(\u001b[0m\u001b[0mhandle\u001b[0m\u001b[0;34m,\u001b[0m \u001b[0mremaining\u001b[0m\u001b[0;34m)\u001b[0m\u001b[0;34m\u001b[0m\u001b[0;34m\u001b[0m\u001b[0m\n\u001b[0m\u001b[1;32m    380\u001b[0m             \u001b[0mn\u001b[0m \u001b[0;34m=\u001b[0m \u001b[0mlen\u001b[0m\u001b[0;34m(\u001b[0m\u001b[0mchunk\u001b[0m\u001b[0;34m)\u001b[0m\u001b[0;34m\u001b[0m\u001b[0;34m\u001b[0m\u001b[0m\n\u001b[1;32m    381\u001b[0m             \u001b[0;32mif\u001b[0m \u001b[0mn\u001b[0m \u001b[0;34m==\u001b[0m \u001b[0;36m0\u001b[0m\u001b[0;34m:\u001b[0m\u001b[0;34m\u001b[0m\u001b[0;34m\u001b[0m\u001b[0m\n",
            "\u001b[0;31mKeyboardInterrupt\u001b[0m: "
          ]
        }
      ]
    },
    {
      "cell_type": "markdown",
      "metadata": {
        "id": "i2a0KURwLMZ5"
      },
      "source": [
        "When finished, you can close the environment."
      ]
    },
    {
      "cell_type": "code",
      "metadata": {
        "id": "wWK3-3B-LMZ5"
      },
      "source": [
        "env.close()"
      ],
      "execution_count": 34,
      "outputs": []
    },
    {
      "cell_type": "markdown",
      "metadata": {
        "id": "Na6dyRd-LMZ8"
      },
      "source": [
        "### 4. It's Your Turn!\n",
        "\n",
        "Now it's your turn to train your own agent to solve the environment!  When training the environment, set `train_mode=True`, so that the line for resetting the environment looks like the following:\n",
        "```python\n",
        "env_info = env.reset(train_mode=True)[brain_name]\n",
        "```"
      ]
    }
  ]
}