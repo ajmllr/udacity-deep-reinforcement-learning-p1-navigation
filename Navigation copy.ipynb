{
  "nbformat": 4,
  "nbformat_minor": 0,
  "metadata": {
    "kernelspec": {
      "name": "Python 3.6.12 64-bit ('drlnd': conda)",
      "display_name": "Python 3.6.12 64-bit ('drlnd': conda)",
      "metadata": {
        "interpreter": {
          "hash": "abe2fb66650ee059fe48b19b38dd815dc16b9d7bd8e4da53e7b73697c2c108f4"
        }
      }
    },
    "language_info": {
      "codemirror_mode": {
        "name": "ipython",
        "version": 3
      },
      "file_extension": ".py",
      "mimetype": "text/x-python",
      "name": "python",
      "nbconvert_exporter": "python",
      "pygments_lexer": "ipython3",
      "version": "3.6.12-final"
    },
    "colab": {
      "name": "Navigation.ipynb",
      "provenance": [],
      "toc_visible": true
    }
  },
  "cells": [
    {
      "cell_type": "markdown",
      "metadata": {
        "id": "7AsIRNUvLMZm"
      },
      "source": [
        "# Navigation\n",
        "\n",
        "---\n",
        "\n",
        "In this notebook, you will learn how to use the Unity ML-Agents environment for the first project of the [Deep Reinforcement Learning Nanodegree](https://www.udacity.com/course/deep-reinforcement-learning-nanodegree--nd893).\n",
        "\n",
        "### 1. Start the Environment\n",
        "\n",
        "We begin by importing some necessary packages.  If the code cell below returns an error, please revisit the project instructions to double-check that you have installed [Unity ML-Agents](https://github.com/Unity-Technologies/ml-agents/blob/master/docs/Installation.md) and [NumPy](http://www.numpy.org/)."
      ]
    },
    {
      "cell_type": "code",
      "metadata": {
        "id": "AWGa276sMteA",
        "outputId": "75c614b3-20d8-4e01-b32a-dcb292b9bcca",
        "colab": {
          "base_uri": "https://localhost:8080/",
          "height": 1000
        },
        "tags": []
      },
      "source": [
        "pip install ./python"
      ],
      "execution_count": 8,
      "outputs": [
        {
          "output_type": "stream",
          "name": "stdout",
          "text": [
            "Processing c:\\users\\aj\\desktop\\udacity-deep-reinforcement-learning-project-1-navigation\\python\n",
            "Collecting tensorflow==1.7.1\n",
            "  Using cached tensorflow-1.7.1-cp36-cp36m-win_amd64.whl (33.1 MB)\n",
            "Requirement already satisfied: Pillow>=4.2.1 in c:\\users\\aj\\anaconda3\\envs\\drlnd\\lib\\site-packages (from unityagents==0.4.0) (7.2.0)\n",
            "Collecting matplotlib\n",
            "  Using cached matplotlib-3.3.2-cp36-cp36m-win_amd64.whl (8.5 MB)\n",
            "Requirement already satisfied: numpy>=1.11.0 in c:\\users\\aj\\anaconda3\\envs\\drlnd\\lib\\site-packages (from unityagents==0.4.0) (1.19.2)\n",
            "Collecting jupyter\n",
            "  Using cached jupyter-1.0.0-py2.py3-none-any.whl (2.7 kB)\n",
            "Collecting pytest>=3.2.2\n",
            "  Using cached pytest-6.1.1-py3-none-any.whl (272 kB)\n",
            "Collecting docopt\n",
            "  Using cached docopt-0.6.2.tar.gz (25 kB)\n",
            "Collecting pyyaml\n",
            "  Using cached PyYAML-5.3.1-cp36-cp36m-win_amd64.whl (215 kB)\n",
            "Collecting protobuf==3.5.2\n",
            "  Using cached protobuf-3.5.2-cp36-cp36m-win_amd64.whl (958 kB)\n",
            "Collecting grpcio==1.11.0\n",
            "  Using cached grpcio-1.11.0-cp36-cp36m-win_amd64.whl (1.4 MB)\n",
            "Requirement already satisfied: torch>=0.4.0 in c:\\users\\aj\\anaconda3\\envs\\drlnd\\lib\\site-packages (from unityagents==0.4.0) (0.4.0)\n",
            "Collecting pandas\n",
            "  Downloading pandas-1.1.3-cp36-cp36m-win_amd64.whl (8.7 MB)\n",
            "Collecting scipy\n",
            "  Downloading scipy-1.5.2-cp36-cp36m-win_amd64.whl (31.2 MB)\n",
            "Requirement already satisfied: ipykernel in c:\\users\\aj\\anaconda3\\envs\\drlnd\\lib\\site-packages (from unityagents==0.4.0) (5.3.4)\n",
            "Requirement already satisfied: wheel>=0.26 in c:\\users\\aj\\anaconda3\\envs\\drlnd\\lib\\site-packages (from tensorflow==1.7.1->unityagents==0.4.0) (0.35.1)\n",
            "Collecting tensorboard<1.8.0,>=1.7.0\n",
            "  Downloading tensorboard-1.7.0-py3-none-any.whl (3.1 MB)\n",
            "Collecting absl-py>=0.1.6\n",
            "  Using cached absl_py-0.10.0-py3-none-any.whl (127 kB)\n",
            "Collecting gast>=0.2.0\n",
            "  Downloading gast-0.4.0-py3-none-any.whl (9.8 kB)\n",
            "Collecting termcolor>=1.1.0\n",
            "  Using cached termcolor-1.1.0.tar.gz (3.9 kB)\n",
            "Collecting astor>=0.6.0\n",
            "  Downloading astor-0.8.1-py2.py3-none-any.whl (27 kB)\n",
            "Requirement already satisfied: six>=1.10.0 in c:\\users\\aj\\anaconda3\\envs\\drlnd\\lib\\site-packages (from tensorflow==1.7.1->unityagents==0.4.0) (1.15.0)\n",
            "Collecting pyparsing!=2.0.4,!=2.1.2,!=2.1.6,>=2.0.3\n",
            "  Using cached pyparsing-2.4.7-py2.py3-none-any.whl (67 kB)\n",
            "Collecting cycler>=0.10\n",
            "  Using cached cycler-0.10.0-py2.py3-none-any.whl (6.5 kB)\n",
            "Requirement already satisfied: python-dateutil>=2.1 in c:\\users\\aj\\anaconda3\\envs\\drlnd\\lib\\site-packages (from matplotlib->unityagents==0.4.0) (2.8.1)\n",
            "Collecting kiwisolver>=1.0.1\n",
            "  Downloading kiwisolver-1.2.0-cp36-none-win_amd64.whl (57 kB)\n",
            "Requirement already satisfied: certifi>=2020.06.20 in c:\\users\\aj\\anaconda3\\envs\\drlnd\\lib\\site-packages (from matplotlib->unityagents==0.4.0) (2020.6.20)\n",
            "Collecting notebook\n",
            "  Using cached notebook-6.1.4-py3-none-any.whl (9.5 MB)\n",
            "Collecting jupyter-console\n",
            "  Using cached jupyter_console-6.2.0-py3-none-any.whl (22 kB)\n",
            "Collecting nbconvert\n",
            "  Using cached nbconvert-6.0.7-py3-none-any.whl (552 kB)\n",
            "Collecting qtconsole\n",
            "  Using cached qtconsole-4.7.7-py2.py3-none-any.whl (118 kB)\n",
            "Collecting ipywidgets\n",
            "  Using cached ipywidgets-7.5.1-py2.py3-none-any.whl (121 kB)\n",
            "Collecting packaging\n",
            "  Using cached packaging-20.4-py2.py3-none-any.whl (37 kB)\n",
            "Collecting importlib-metadata>=0.12; python_version < \"3.8\"\n",
            "  Using cached importlib_metadata-2.0.0-py2.py3-none-any.whl (31 kB)\n",
            "Collecting attrs>=17.4.0\n",
            "  Using cached attrs-20.2.0-py2.py3-none-any.whl (48 kB)\n",
            "Collecting pluggy<1.0,>=0.12\n",
            "  Using cached pluggy-0.13.1-py2.py3-none-any.whl (18 kB)\n",
            "Collecting toml\n",
            "  Using cached toml-0.10.1-py2.py3-none-any.whl (19 kB)\n",
            "Collecting py>=1.8.2\n",
            "  Using cached py-1.9.0-py2.py3-none-any.whl (99 kB)\n",
            "Collecting atomicwrites>=1.0; sys_platform == \"win32\"\n",
            "  Using cached atomicwrites-1.4.0-py2.py3-none-any.whl (6.8 kB)\n",
            "Collecting iniconfig\n",
            "  Using cached iniconfig-1.0.1-py3-none-any.whl (4.2 kB)\n",
            "Requirement already satisfied: colorama; sys_platform == \"win32\" in c:\\users\\aj\\anaconda3\\envs\\drlnd\\lib\\site-packages (from pytest>=3.2.2->unityagents==0.4.0) (0.4.3)\n",
            "Requirement already satisfied: setuptools in c:\\users\\aj\\anaconda3\\envs\\drlnd\\lib\\site-packages (from protobuf==3.5.2->unityagents==0.4.0) (50.3.0.post20201006)\n",
            "Collecting pytz>=2017.2\n",
            "  Using cached pytz-2020.1-py2.py3-none-any.whl (510 kB)\n",
            "Requirement already satisfied: tornado>=4.2 in c:\\users\\aj\\anaconda3\\envs\\drlnd\\lib\\site-packages (from ipykernel->unityagents==0.4.0) (6.0.4)\n",
            "Requirement already satisfied: jupyter-client in c:\\users\\aj\\anaconda3\\envs\\drlnd\\lib\\site-packages (from ipykernel->unityagents==0.4.0) (6.1.7)\n",
            "Requirement already satisfied: ipython>=5.0.0 in c:\\users\\aj\\anaconda3\\envs\\drlnd\\lib\\site-packages (from ipykernel->unityagents==0.4.0) (7.16.1)\n",
            "Requirement already satisfied: traitlets>=4.1.0 in c:\\users\\aj\\anaconda3\\envs\\drlnd\\lib\\site-packages (from ipykernel->unityagents==0.4.0) (4.3.3)\n",
            "Collecting bleach==1.5.0\n",
            "  Downloading bleach-1.5.0-py2.py3-none-any.whl (17 kB)\n",
            "Collecting html5lib==0.9999999\n",
            "  Downloading html5lib-0.9999999.tar.gz (889 kB)\n",
            "Collecting werkzeug>=0.11.10\n",
            "  Using cached Werkzeug-1.0.1-py2.py3-none-any.whl (298 kB)\n",
            "Collecting markdown>=2.6.8\n",
            "  Downloading Markdown-3.3.1-py3-none-any.whl (95 kB)\n",
            "Collecting terminado>=0.8.3\n",
            "  Using cached terminado-0.9.1-py3-none-any.whl (13 kB)\n",
            "Collecting argon2-cffi\n",
            "  Downloading argon2_cffi-20.1.0-cp36-cp36m-win_amd64.whl (42 kB)Note: you may need to restart the kernel to use updated packages.\n",
            "Requirement already satisfied: ipython-genutils in c:\\users\\aj\\anaconda3\\envs\\drlnd\\lib\\site-packages (from notebook->jupyter->unityagents==0.4.0) (0.2.0)\n",
            "Collecting nbformat\n",
            "  Using cached nbformat-5.0.7-py3-none-any.whl (170 kB)\n",
            "Requirement already satisfied: pyzmq>=17 in c:\\users\\aj\\anaconda3\\envs\\drlnd\\lib\\site-packages (from notebook->jupyter->unityagents==0.4.0) (19.0.2)\n",
            "Collecting jinja2\n",
            "  Using cached Jinja2-2.11.2-py2.py3-none-any.whl (125 kB)\n",
            "Requirement already satisfied: jupyter-core>=4.6.1 in c:\\users\\aj\\anaconda3\\envs\\drlnd\\lib\\site-packages (from notebook->jupyter->unityagents==0.4.0) (4.6.3)\n",
            "Collecting Send2Trash\n",
            "  Using cached Send2Trash-1.5.0-py3-none-any.whl (12 kB)\n",
            "Collecting prometheus-client\n",
            "  Using cached prometheus_client-0.8.0-py2.py3-none-any.whl (53 kB)\n",
            "Requirement already satisfied: prompt-toolkit!=3.0.0,!=3.0.1,<3.1.0,>=2.0.0 in c:\\users\\aj\\anaconda3\\envs\\drlnd\\lib\\site-packages (from jupyter-console->jupyter->unityagents==0.4.0) (3.0.7)\n",
            "Requirement already satisfied: pygments in c:\\users\\aj\\anaconda3\\envs\\drlnd\\lib\\site-packages (from jupyter-console->jupyter->unityagents==0.4.0) (2.7.1)\n",
            "\n",
            "Collecting jupyterlab-pygments\n",
            "  Using cached jupyterlab_pygments-0.1.2-py2.py3-none-any.whl (4.6 kB)\n",
            "Collecting mistune<2,>=0.8.1\n",
            "  Using cached mistune-0.8.4-py2.py3-none-any.whl (16 kB)\n",
            "Collecting entrypoints>=0.2.2\n",
            "  Using cached entrypoints-0.3-py2.py3-none-any.whl (11 kB)\n",
            "Collecting nbclient<0.6.0,>=0.5.0\n",
            "  Using cached nbclient-0.5.0-py3-none-any.whl (65 kB)\n",
            "Collecting testpath\n",
            "  Using cached testpath-0.4.4-py2.py3-none-any.whl (163 kB)\n",
            "Collecting pandocfilters>=1.4.1\n",
            "  Using cached pandocfilters-1.4.2.tar.gz (14 kB)\n",
            "Collecting defusedxml\n",
            "  Using cached defusedxml-0.6.0-py2.py3-none-any.whl (23 kB)\n",
            "Collecting qtpy\n",
            "  Using cached QtPy-1.9.0-py2.py3-none-any.whl (54 kB)\n",
            "Collecting widgetsnbextension~=3.5.0\n",
            "  Using cached widgetsnbextension-3.5.1-py2.py3-none-any.whl (2.2 MB)\n",
            "Collecting zipp>=0.5\n",
            "  Downloading zipp-3.3.0-py3-none-any.whl (5.3 kB)\n",
            "Requirement already satisfied: jedi>=0.10 in c:\\users\\aj\\anaconda3\\envs\\drlnd\\lib\\site-packages (from ipython>=5.0.0->ipykernel->unityagents==0.4.0) (0.17.2)\n",
            "Requirement already satisfied: decorator in c:\\users\\aj\\anaconda3\\envs\\drlnd\\lib\\site-packages (from ipython>=5.0.0->ipykernel->unityagents==0.4.0) (4.4.2)\n",
            "Requirement already satisfied: backcall in c:\\users\\aj\\anaconda3\\envs\\drlnd\\lib\\site-packages (from ipython>=5.0.0->ipykernel->unityagents==0.4.0) (0.2.0)\n",
            "Requirement already satisfied: pickleshare in c:\\users\\aj\\anaconda3\\envs\\drlnd\\lib\\site-packages (from ipython>=5.0.0->ipykernel->unityagents==0.4.0) (0.7.5)\n",
            "Collecting pywinpty>=0.5; os_name == \"nt\"\n",
            "  Downloading pywinpty-0.5.7-cp36-cp36m-win_amd64.whl (1.3 MB)\n",
            "Collecting cffi>=1.0.0\n",
            "  Downloading cffi-1.14.3-cp36-cp36m-win_amd64.whl (178 kB)\n",
            "Collecting jsonschema!=2.5.0,>=2.4\n",
            "  Using cached jsonschema-3.2.0-py2.py3-none-any.whl (56 kB)\n",
            "Collecting MarkupSafe>=0.23\n",
            "  Downloading MarkupSafe-1.1.1-cp36-cp36m-win_amd64.whl (16 kB)\n",
            "Requirement already satisfied: pywin32>=1.0; sys_platform == \"win32\" in c:\\users\\aj\\anaconda3\\envs\\drlnd\\lib\\site-packages (from jupyter-core>=4.6.1->notebook->jupyter->unityagents==0.4.0) (227)\n",
            "Requirement already satisfied: wcwidth in c:\\users\\aj\\anaconda3\\envs\\drlnd\\lib\\site-packages (from prompt-toolkit!=3.0.0,!=3.0.1,<3.1.0,>=2.0.0->jupyter-console->jupyter->unityagents==0.4.0) (0.2.5)\n",
            "Collecting nest-asyncio\n",
            "  Using cached nest_asyncio-1.4.1-py3-none-any.whl (5.2 kB)\n",
            "Collecting async-generator\n",
            "  Using cached async_generator-1.10-py3-none-any.whl (18 kB)\n",
            "Requirement already satisfied: parso<0.8.0,>=0.7.0 in c:\\users\\aj\\anaconda3\\envs\\drlnd\\lib\\site-packages (from jedi>=0.10->ipython>=5.0.0->ipykernel->unityagents==0.4.0) (0.7.0)\n",
            "Collecting pycparser\n",
            "  Using cached pycparser-2.20-py2.py3-none-any.whl (112 kB)\n",
            "Collecting pyrsistent>=0.14.0\n",
            "  Using cached pyrsistent-0.17.3.tar.gz (106 kB)\n",
            "Building wheels for collected packages: unityagents, docopt, termcolor, html5lib, pandocfilters, pyrsistent\n",
            "  Building wheel for unityagents (setup.py): started\n",
            "  Building wheel for unityagents (setup.py): finished with status 'done'\n",
            "  Created wheel for unityagents: filename=unityagents-0.4.0-py3-none-any.whl size=72163 sha256=45271ece21e1b00492b2f2d0b83de00b95e006320439b3a68e7282a13e8204c9\n",
            "  Stored in directory: C:\\Users\\AJ\\AppData\\Local\\Temp\\pip-ephem-wheel-cache-lcp8zuvs\\wheels\\81\\d3\\b1\\af636e4be33ea0f8144022177ce8c663d3671de08aa7df0364\n",
            "  Building wheel for docopt (setup.py): started\n",
            "  Building wheel for docopt (setup.py): finished with status 'done'\n",
            "  Created wheel for docopt: filename=docopt-0.6.2-py2.py3-none-any.whl size=13709 sha256=7eba1543eb20c11fedb88545cb90ae178fb4ab921b68ca7bcb31a7c73abde24c\n",
            "  Stored in directory: c:\\users\\aj\\appdata\\local\\pip\\cache\\wheels\\3f\\2a\\fa\\4d7a888e69774d5e6e855d190a8a51b357d77cc05eb1c097c9\n",
            "  Building wheel for termcolor (setup.py): started\n",
            "  Building wheel for termcolor (setup.py): finished with status 'done'\n",
            "  Created wheel for termcolor: filename=termcolor-1.1.0-py3-none-any.whl size=4835 sha256=8953fdd3275ddb6b9fdd59bc1718dfe9db05437f886a7ed8af6091955a1e053b\n",
            "  Stored in directory: c:\\users\\aj\\appdata\\local\\pip\\cache\\wheels\\93\\2a\\eb\\e58dbcbc963549ee4f065ff80a59f274cc7210b6eab962acdc\n",
            "  Building wheel for html5lib (setup.py): started\n",
            "  Building wheel for html5lib (setup.py): finished with status 'done'\n",
            "  Created wheel for html5lib: filename=html5lib-0.9999999-py3-none-any.whl size=107225 sha256=9e08a92f22cf1b73303213c6e5a762b5930e5c60e7bb0fbcf81bd468b45f98f3\n",
            "  Stored in directory: c:\\users\\aj\\appdata\\local\\pip\\cache\\wheels\\90\\1c\\cb\\a87fd097ff74648ecc468a703001f6c7c86d8a71d459e65c98\n",
            "  Building wheel for pandocfilters (setup.py): started\n",
            "  Building wheel for pandocfilters (setup.py): finished with status 'done'\n",
            "  Created wheel for pandocfilters: filename=pandocfilters-1.4.2-py3-none-any.whl size=7861 sha256=cd53c388706bd25b5c16706108b696ea8376ed36054aa14a15ea491cfe300789\n",
            "  Stored in directory: c:\\users\\aj\\appdata\\local\\pip\\cache\\wheels\\46\\c4\\40\\718c6fd14c2129ccaee10e0cf03ef6c4d01d98cad5dbbfda38\n",
            "  Building wheel for pyrsistent (setup.py): started\n",
            "  Building wheel for pyrsistent (setup.py): finished with status 'done'\n",
            "  Created wheel for pyrsistent: filename=pyrsistent-0.17.3-cp36-cp36m-win_amd64.whl size=55878 sha256=1fce7ecced59da4bc170f78ffa44364a2315ee941da799e52fa2b6908167ec05\n",
            "  Stored in directory: c:\\users\\aj\\appdata\\local\\pip\\cache\\wheels\\34\\13\\19\\294da8e11bce7e563afee51251b9fa878185e14f4b5caf00cb\n",
            "Successfully built unityagents docopt termcolor html5lib pandocfilters pyrsistent\n",
            "Installing collected packages: html5lib, bleach, werkzeug, protobuf, zipp, importlib-metadata, markdown, tensorboard, absl-py, gast, termcolor, astor, grpcio, tensorflow, pyparsing, cycler, kiwisolver, matplotlib, pywinpty, terminado, pycparser, cffi, argon2-cffi, attrs, pyrsistent, jsonschema, nbformat, jupyterlab-pygments, mistune, entrypoints, MarkupSafe, jinja2, nest-asyncio, async-generator, nbclient, testpath, pandocfilters, defusedxml, nbconvert, Send2Trash, prometheus-client, notebook, jupyter-console, qtpy, qtconsole, widgetsnbextension, ipywidgets, jupyter, packaging, pluggy, toml, py, atomicwrites, iniconfig, pytest, docopt, pyyaml, pytz, pandas, scipy, unityagents\n",
            "Successfully installed MarkupSafe-1.1.1 Send2Trash-1.5.0 absl-py-0.10.0 argon2-cffi-20.1.0 astor-0.8.1 async-generator-1.10 atomicwrites-1.4.0 attrs-20.2.0 bleach-1.5.0 cffi-1.14.3 cycler-0.10.0 defusedxml-0.6.0 docopt-0.6.2 entrypoints-0.3 gast-0.4.0 grpcio-1.11.0 html5lib-0.9999999 importlib-metadata-2.0.0 iniconfig-1.0.1 ipywidgets-7.5.1 jinja2-2.11.2 jsonschema-3.2.0 jupyter-1.0.0 jupyter-console-6.2.0 jupyterlab-pygments-0.1.2 kiwisolver-1.2.0 markdown-3.3.1 matplotlib-3.3.2 mistune-0.8.4 nbclient-0.5.0 nbconvert-6.0.7 nbformat-5.0.7 nest-asyncio-1.4.1 notebook-6.1.4 packaging-20.4 pandas-1.1.3 pandocfilters-1.4.2 pluggy-0.13.1 prometheus-client-0.8.0 protobuf-3.5.2 py-1.9.0 pycparser-2.20 pyparsing-2.4.7 pyrsistent-0.17.3 pytest-6.1.1 pytz-2020.1 pywinpty-0.5.7 pyyaml-5.3.1 qtconsole-4.7.7 qtpy-1.9.0 scipy-1.5.2 tensorboard-1.7.0 tensorflow-1.7.1 termcolor-1.1.0 terminado-0.9.1 testpath-0.4.4 toml-0.10.1 unityagents-0.4.0 werkzeug-1.0.1 widgetsnbextension-3.5.1 zipp-3.3.0\n"
          ]
        }
      ]
    },
    {
      "cell_type": "code",
      "metadata": {
        "id": "SQ_RJA27LMZn"
      },
      "source": [
        "from unityagents import UnityEnvironment\n",
        "import numpy as np"
      ],
      "execution_count": 1,
      "outputs": []
    },
    {
      "cell_type": "markdown",
      "metadata": {
        "id": "sq-1cbG3LMZr"
      },
      "source": [
        "Next, we will start the environment!  **_Before running the code cell below_**, change the `file_name` parameter to match the location of the Unity environment that you downloaded.\n",
        "\n",
        "- **Mac**: `\"path/to/Banana.app\"`\n",
        "- **Windows** (x86): `\"path/to/Banana_Windows_x86/Banana.exe\"`\n",
        "- **Windows** (x86_64): `\"path/to/Banana_Windows_x86_64/Banana.exe\"`\n",
        "- **Linux** (x86): `\"path/to/Banana_Linux/Banana.x86\"`\n",
        "- **Linux** (x86_64): `\"path/to/Banana_Linux/Banana.x86_64\"`\n",
        "- **Linux** (x86, headless): `\"path/to/Banana_Linux_NoVis/Banana.x86\"`\n",
        "- **Linux** (x86_64, headless): `\"path/to/Banana_Linux_NoVis/Banana.x86_64\"`\n",
        "\n",
        "For instance, if you are using a Mac, then you downloaded `Banana.app`.  If this file is in the same folder as the notebook, then the line below should appear as follows:\n",
        "```\n",
        "env = UnityEnvironment(file_name=\"Banana.app\")\n",
        "```"
      ]
    },
    {
      "cell_type": "code",
      "metadata": {
        "id": "qhZZMTdNLMZs",
        "outputId": "866f270e-901e-4b20-e878-b50aa19cc503",
        "colab": {
          "base_uri": "https://localhost:8080/",
          "height": 306
        }
      },
      "source": [
        "env = UnityEnvironment(file_name=\"Banana.exe\")"
      ],
      "execution_count": 4,
      "outputs": [
        {
          "output_type": "stream",
          "name": "stderr",
          "text": [
            "INFO:unityagents:\n'Academy' started successfully!\nUnity Academy name: Academy\n        Number of Brains: 1\n        Number of External Brains : 1\n        Lesson number : 0\n        Reset Parameters :\n\t\t\nUnity brain name: BananaBrain\n        Number of Visual Observations (per agent): 0\n        Vector Observation space type: continuous\n        Vector Observation space size (per agent): 37\n        Number of stacked Vector Observation: 1\n        Vector Action space type: discrete\n        Vector Action space size (per agent): 4\n        Vector Action descriptions: , , , \n"
          ]
        }
      ]
    },
    {
      "cell_type": "markdown",
      "metadata": {
        "id": "xG0Rp03iLMZw"
      },
      "source": [
        "Environments contain **_brains_** which are responsible for deciding the actions of their associated agents. Here we check for the first brain available, and set it as the default brain we will be controlling from Python."
      ]
    },
    {
      "cell_type": "code",
      "execution_count": null,
      "metadata": {},
      "outputs": [],
      "source": []
    },
    {
      "cell_type": "code",
      "metadata": {
        "id": "dqh3jPiYLMZx",
        "outputId": "f053bafd-c73d-460d-87cb-bc0e75d718d1",
        "colab": {
          "base_uri": "https://localhost:8080/",
          "height": 153
        }
      },
      "source": [
        "# get the default brain\n",
        "brain_name = env.brain_names[0]\n",
        "brain = env.brains[brain_name]\n",
        "print(brain)"
      ],
      "execution_count": 7,
      "outputs": [
        {
          "output_type": "stream",
          "name": "stdout",
          "text": [
            "Unity brain name: BananaBrain\n        Number of Visual Observations (per agent): 0\n        Vector Observation space type: continuous\n        Vector Observation space size (per agent): 37\n        Number of stacked Vector Observation: 1\n        Vector Action space type: discrete\n        Vector Action space size (per agent): 4\n        Vector Action descriptions: , , , \n"
          ]
        }
      ]
    },
    {
      "cell_type": "markdown",
      "metadata": {
        "id": "IC_FgiAuLMZ0"
      },
      "source": [
        "### 2. Examine the State and Action Spaces\n",
        "\n",
        "The simulation contains a single agent that navigates a large environment.  At each time step, it has four actions at its disposal:\n",
        "- `0` - walk forward \n",
        "- `1` - walk backward\n",
        "- `2` - turn left\n",
        "- `3` - turn right\n",
        "\n",
        "The state space has `37` dimensions and contains the agent's velocity, along with ray-based perception of objects around agent's forward direction.  A reward of `+1` is provided for collecting a yellow banana, and a reward of `-1` is provided for collecting a blue banana. \n",
        "\n",
        "Run the code cell below to print some information about the environment."
      ]
    },
    {
      "cell_type": "code",
      "metadata": {
        "id": "729XXs5DLMZ0",
        "outputId": "b3782f98-3724-4870-dcc1-059f75b4eabf",
        "colab": {
          "base_uri": "https://localhost:8080/",
          "height": 374
        }
      },
      "source": [
        "# reset the environment\n",
        "env_info = env.reset(train_mode=True)[brain_name]\n",
        "\n",
        "# number of agents in the environment\n",
        "print('Number of agents:', len(env_info.agents))\n",
        "\n",
        "# number of actions\n",
        "action_size = brain.vector_action_space_size\n",
        "print('Number of actions:', action_size)\n",
        "\n",
        "# examine the state space \n",
        "state = env_info.vector_observations[0]\n",
        "print('States look like:', state)\n",
        "state_size = len(state)\n",
        "print('States have length:', state_size)"
      ],
      "execution_count": 8,
      "outputs": [
        {
          "output_type": "error",
          "ename": "KeyError",
          "evalue": "'BananaBrain'",
          "traceback": [
            "\u001b[1;31m---------------------------------------------------------------------------\u001b[0m",
            "\u001b[1;31mKeyError\u001b[0m                                  Traceback (most recent call last)",
            "\u001b[1;32m<ipython-input-8-c6aa12bad02b>\u001b[0m in \u001b[0;36m<module>\u001b[1;34m\u001b[0m\n\u001b[0;32m      1\u001b[0m \u001b[1;31m# reset the environment\u001b[0m\u001b[1;33m\u001b[0m\u001b[1;33m\u001b[0m\u001b[1;33m\u001b[0m\u001b[0m\n\u001b[1;32m----> 2\u001b[1;33m \u001b[0menv_info\u001b[0m \u001b[1;33m=\u001b[0m \u001b[0menv\u001b[0m\u001b[1;33m.\u001b[0m\u001b[0mreset\u001b[0m\u001b[1;33m(\u001b[0m\u001b[0mtrain_mode\u001b[0m\u001b[1;33m=\u001b[0m\u001b[1;32mTrue\u001b[0m\u001b[1;33m)\u001b[0m\u001b[1;33m[\u001b[0m\u001b[0mbrain_name\u001b[0m\u001b[1;33m]\u001b[0m\u001b[1;33m\u001b[0m\u001b[1;33m\u001b[0m\u001b[0m\n\u001b[0m\u001b[0;32m      3\u001b[0m \u001b[1;33m\u001b[0m\u001b[0m\n\u001b[0;32m      4\u001b[0m \u001b[1;31m# number of agents in the environment\u001b[0m\u001b[1;33m\u001b[0m\u001b[1;33m\u001b[0m\u001b[1;33m\u001b[0m\u001b[0m\n\u001b[0;32m      5\u001b[0m \u001b[0mprint\u001b[0m\u001b[1;33m(\u001b[0m\u001b[1;34m'Number of agents:'\u001b[0m\u001b[1;33m,\u001b[0m \u001b[0mlen\u001b[0m\u001b[1;33m(\u001b[0m\u001b[0menv_info\u001b[0m\u001b[1;33m.\u001b[0m\u001b[0magents\u001b[0m\u001b[1;33m)\u001b[0m\u001b[1;33m)\u001b[0m\u001b[1;33m\u001b[0m\u001b[1;33m\u001b[0m\u001b[0m\n",
            "\u001b[1;32m~\\anaconda3\\envs\\drlnd\\lib\\site-packages\\unityagents\\environment.py\u001b[0m in \u001b[0;36mreset\u001b[1;34m(self, train_mode, config, lesson)\u001b[0m\n\u001b[0;32m    267\u001b[0m             \u001b[0mself\u001b[0m\u001b[1;33m.\u001b[0m\u001b[0m_global_done\u001b[0m \u001b[1;33m=\u001b[0m \u001b[0ms\u001b[0m\u001b[1;33m[\u001b[0m\u001b[1;36m1\u001b[0m\u001b[1;33m]\u001b[0m\u001b[1;33m\u001b[0m\u001b[1;33m\u001b[0m\u001b[0m\n\u001b[0;32m    268\u001b[0m             \u001b[1;32mfor\u001b[0m \u001b[0m_b\u001b[0m \u001b[1;32min\u001b[0m \u001b[0mself\u001b[0m\u001b[1;33m.\u001b[0m\u001b[0m_external_brain_names\u001b[0m\u001b[1;33m:\u001b[0m\u001b[1;33m\u001b[0m\u001b[1;33m\u001b[0m\u001b[0m\n\u001b[1;32m--> 269\u001b[1;33m                 \u001b[0mself\u001b[0m\u001b[1;33m.\u001b[0m\u001b[0m_n_agents\u001b[0m\u001b[1;33m[\u001b[0m\u001b[0m_b\u001b[0m\u001b[1;33m]\u001b[0m \u001b[1;33m=\u001b[0m \u001b[0mlen\u001b[0m\u001b[1;33m(\u001b[0m\u001b[0ms\u001b[0m\u001b[1;33m[\u001b[0m\u001b[1;36m0\u001b[0m\u001b[1;33m]\u001b[0m\u001b[1;33m[\u001b[0m\u001b[0m_b\u001b[0m\u001b[1;33m]\u001b[0m\u001b[1;33m.\u001b[0m\u001b[0magents\u001b[0m\u001b[1;33m)\u001b[0m\u001b[1;33m\u001b[0m\u001b[1;33m\u001b[0m\u001b[0m\n\u001b[0m\u001b[0;32m    270\u001b[0m             \u001b[1;32mreturn\u001b[0m \u001b[0ms\u001b[0m\u001b[1;33m[\u001b[0m\u001b[1;36m0\u001b[0m\u001b[1;33m]\u001b[0m\u001b[1;33m\u001b[0m\u001b[1;33m\u001b[0m\u001b[0m\n\u001b[0;32m    271\u001b[0m         \u001b[1;32melse\u001b[0m\u001b[1;33m:\u001b[0m\u001b[1;33m\u001b[0m\u001b[1;33m\u001b[0m\u001b[0m\n",
            "\u001b[1;31mKeyError\u001b[0m: 'BananaBrain'"
          ]
        }
      ]
    },
    {
      "cell_type": "markdown",
      "metadata": {
        "id": "QK71Rjz6LMZ2"
      },
      "source": [
        "### 3. Take Random Actions in the Environment\n",
        "\n",
        "In the next code cell, you will learn how to use the Python API to control the agent and receive feedback from the environment.\n",
        "\n",
        "Once this cell is executed, you will watch the agent's performance, if it selects an action (uniformly) at random with each time step.  A window should pop up that allows you to observe the agent, as it moves through the environment.  \n",
        "\n",
        "Of course, as part of the project, you'll have to change the code so that the agent is able to use its experience to gradually choose better actions when interacting with the environment!"
      ]
    },
    {
      "cell_type": "code",
      "metadata": {
        "id": "lR-BCeK6LMZ3",
        "outputId": "d5aec03b-c186-4b49-e1a7-10fb0af6f57f",
        "colab": {
          "base_uri": "https://localhost:8080/",
          "height": 374
        }
      },
      "source": [
        "env_info = env.reset(train_mode=False)[brain_name] # reset the environment\n",
        "state = env_info.vector_observations[0]            # get the current state\n",
        "score = 0                                          # initialize the score\n",
        "while True:\n",
        "    action = np.random.randint(action_size)        # select an action\n",
        "    print(f'action: {action}')\n",
        "    env_info = env.step(action)[brain_name]        # send the action to the environment\n",
        "    print(f'env_info: {env_info}')\n",
        "    next_state = env_info.vector_observations[0]   # get the next state\n",
        "    reward = env_info.rewards[0]                   # get the reward\n",
        "    done = env_info.local_done[0]                  # see if episode has finished\n",
        "    score += reward                                # update the score\n",
        "    state = next_state                             # roll over the state to next time step\n",
        "    if done:                                       # exit loop if episode finished\n",
        "        break\n",
        "    \n",
        "print(\"Score: {}\".format(score))"
      ],
      "execution_count": 9,
      "outputs": []
    },
    {
      "cell_type": "markdown",
      "metadata": {
        "id": "i2a0KURwLMZ5"
      },
      "source": [
        "When finished, you can close the environment."
      ]
    },
    {
      "cell_type": "code",
      "metadata": {
        "id": "wWK3-3B-LMZ5"
      },
      "source": [
        "env.close()"
      ],
      "execution_count": 34,
      "outputs": []
    },
    {
      "cell_type": "markdown",
      "metadata": {
        "id": "Na6dyRd-LMZ8"
      },
      "source": [
        "### 4. It's Your Turn!\n",
        "\n",
        "Now it's your turn to train your own agent to solve the environment!  When training the environment, set `train_mode=True`, so that the line for resetting the environment looks like the following:\n",
        "```python\n",
        "env_info = env.reset(train_mode=True)[brain_name]\n",
        "```"
      ]
    }
  ]
}